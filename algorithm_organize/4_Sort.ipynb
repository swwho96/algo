{
 "cells": [
  {
   "cell_type": "markdown",
   "id": "6f0114f3-69db-4cc0-8ec8-13338ebf1a3b",
   "metadata": {},
   "source": [
    "# 정렬"
   ]
  },
  {
   "cell_type": "markdown",
   "id": "f38980d8-9727-4353-bc68-c153514182b9",
   "metadata": {},
   "source": [
    "1. 버블정렬 $O(n^2)$\n",
    "\n",
    "<img src=\"https://github.com/GimunLee/tech-refrigerator/raw/master/Algorithm/resources/bubble-sort-001.gif\">"
   ]
  },
  {
   "cell_type": "code",
   "execution_count": 1,
   "id": "9d90e211-f6fc-405a-8656-49a71290b52b",
   "metadata": {},
   "outputs": [],
   "source": [
    "def bubblesort(a: list)-> list:\n",
    "    for i in range(1, len(a)):\n",
    "        for j in range(len(a)-1):\n",
    "            if a[j] > a[j+1]:\n",
    "                a[j], a[j+1] = a[j+1], a[j]"
   ]
  },
  {
   "cell_type": "markdown",
   "id": "67630f4a-8984-451f-8cbf-bf3d4c32d918",
   "metadata": {},
   "source": [
    "2. 병합정렬 $O(nlogn)$ => 안정정렬(입력 순서 유지)"
   ]
  },
  {
   "cell_type": "code",
   "execution_count": 8,
   "id": "10bb5c43-34a9-48c0-a1c8-596e027f985b",
   "metadata": {},
   "outputs": [
    {
     "name": "stdout",
     "output_type": "stream",
     "text": [
      "[1, 2, 3, 4, 5, 6, 7, 8, 9]\n"
     ]
    }
   ],
   "source": [
    "def mergesort(a: list)->list:\n",
    "    if len(a) < 2:\n",
    "        return a\n",
    "    \n",
    "    mid = len(a) // 2\n",
    "    left = mergesort(a[:mid])\n",
    "    right = mergesort(a[mid:])\n",
    "    \n",
    "    merged_list = []\n",
    "    l = r = 0\n",
    "    while l < len(left) and r < len(right):\n",
    "        if left[l] < right[r]:\n",
    "            merged_list.append(left[l])\n",
    "            l += 1\n",
    "        else:\n",
    "            merged_list.append(right[r])\n",
    "            r += 1\n",
    "    merged_list += left[l:]\n",
    "    merged_list += right[r:]\n",
    "    return merged_list\n",
    "\n",
    "print(mergesort([9,8,7,5,6,4,3,2,1]))"
   ]
  },
  {
   "cell_type": "markdown",
   "id": "6c3fe133-9a5d-4ac1-ba5e-6c44b5cc7b5f",
   "metadata": {},
   "source": [
    "3. 퀵정렬 $O(n^2)$ => 불안정정렬(입력 순서 섞임)\n",
    "\n",
    "<img src=\"https://github.com/GimunLee/tech-refrigerator/raw/master/Algorithm/resources/quick-sort-001.gif\">"
   ]
  },
  {
   "cell_type": "code",
   "execution_count": null,
   "id": "94014db5-711c-4df4-ab53-52ba6a0b4a81",
   "metadata": {},
   "outputs": [],
   "source": [
    "def quicksort(a:list, l:int, r:int)->list:\n",
    "    def partition(l:int, r:int)->int:\n",
    "        pivot = a[r]\n",
    "        left = l\n",
    "        for right in range(l, r):\n",
    "            if a[left] < pivot:\n",
    "                a[left], a[right] = a[right], a[left]\n",
    "                left += 1\n",
    "        a[left], a[r] = a[r], a[left]\n",
    "        return left"
   ]
  },
  {
   "cell_type": "markdown",
   "id": "f4fd74cf-a438-4ce0-9548-1695d9ce8ac9",
   "metadata": {},
   "source": [
    "---"
   ]
  },
  {
   "attachments": {},
   "cell_type": "markdown",
   "id": "38bee8dc",
   "metadata": {},
   "source": [
    "## 이코테 유형별 기출문제"
   ]
  },
  {
   "cell_type": "code",
   "execution_count": 1,
   "id": "21b93bf1",
   "metadata": {},
   "outputs": [
    {
     "name": "stdout",
     "output_type": "stream",
     "text": [
      "Donghyuk\n",
      "Sangkeun\n",
      "Sunyoung\n",
      "nsj\n",
      "Wonseob\n",
      "Sanghyun\n",
      "Sei\n",
      "Kangsoo\n",
      "Haebin\n",
      "Junkyu\n",
      "Song\n",
      "Taewhan\n"
     ]
    }
   ],
   "source": [
    "# Q 23. 국영수\n",
    "\n",
    "n = int(input())\n",
    "students = []\n",
    "for _ in range(n):\n",
    "    name, k, e, m = map(str, input().split())\n",
    "    tmp = [name, int(k), int(e), int(m)]\n",
    "    students.append(tmp)\n",
    "\n",
    "students = sorted(students, key=lambda x: (-x[1], x[2], -x[3], x[0]))\n",
    "\n",
    "for i in students:\n",
    "    print(i[0])  \n"
   ]
  },
  {
   "cell_type": "code",
   "execution_count": 10,
   "id": "012a7ee5",
   "metadata": {},
   "outputs": [
    {
     "name": "stdout",
     "output_type": "stream",
     "text": [
      "7\n"
     ]
    }
   ],
   "source": [
    "# 24번 - 안테나\n",
    "\n",
    "n = int(input())\n",
    "homes = list(map(int, input().split()))\n",
    "print(sorted(homes)[(n-1)//2])"
   ]
  }
 ],
 "metadata": {
  "kernelspec": {
   "display_name": "base",
   "language": "python",
   "name": "python3"
  },
  "language_info": {
   "codemirror_mode": {
    "name": "ipython",
    "version": 3
   },
   "file_extension": ".py",
   "mimetype": "text/x-python",
   "name": "python",
   "nbconvert_exporter": "python",
   "pygments_lexer": "ipython3",
   "version": "3.9.12"
  },
  "vscode": {
   "interpreter": {
    "hash": "df374f9080d02b295c5c67d9e2d72f8c33ee93bb960a0c1df2964c3ff6e7e57f"
   }
  }
 },
 "nbformat": 4,
 "nbformat_minor": 5
}
