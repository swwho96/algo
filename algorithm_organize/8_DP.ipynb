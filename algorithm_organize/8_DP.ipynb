{
 "cells": [
  {
   "attachments": {},
   "cell_type": "markdown",
   "metadata": {},
   "source": [
    "## 다이나믹 프로그래밍"
   ]
  },
  {
   "cell_type": "code",
   "execution_count": 2,
   "metadata": {},
   "outputs": [
    {
     "name": "stdout",
     "output_type": "stream",
     "text": [
      "3\n"
     ]
    }
   ],
   "source": [
    "# 1로 만들기 - 이코테 (나동빈 저)\n",
    "\n",
    "x = int(input())\n",
    "\n",
    "array = [0, 0, 1, 1, 2, 1]\n",
    "\n",
    "for n in range(6, x+1):\n",
    "    if n % 5 == 0:\n",
    "        array += [min(array[n-1] + 1, array[n // 5] + 1)]\n",
    "    elif n % 3 == 0:\n",
    "        array += [min(array[n-1] + 1, array[n // 3] + 1)]\n",
    "    elif n % 2 == 0:\n",
    "        array += [min(array[n-1] + 1, array[n // 2] + 1)]\n",
    "    else:\n",
    "        array += [array[n-1] + 1]\n",
    "\n",
    "print(array[x])"
   ]
  },
  {
   "cell_type": "code",
   "execution_count": 5,
   "metadata": {},
   "outputs": [
    {
     "name": "stdout",
     "output_type": "stream",
     "text": [
      "8\n"
     ]
    }
   ],
   "source": [
    "# 개미 전사 - 이코테 (나동빈 저)\n",
    "\n",
    "n = int(input())\n",
    "array = list(map(int, input().split()))\n",
    "\n",
    "dp = array[:2]\n",
    "for i in range(2, len(array)):\n",
    "    dp += [max(array[i-1], array[i-2]+array[i])]\n",
    "\n",
    "print(dp[-1])"
   ]
  },
  {
   "cell_type": "code",
   "execution_count": 11,
   "metadata": {},
   "outputs": [
    {
     "name": "stdout",
     "output_type": "stream",
     "text": [
      "5\n"
     ]
    }
   ],
   "source": [
    "# 바닥 공사 - 이코테 (나동빈 저)\n",
    "\n",
    "n = int(input())\n",
    "dp = [0, 1, 3]\n",
    "for i in range(3, n+1):\n",
    "    dp += [dp[i-1] + (dp[i-2] * 2)]\n",
    "\n",
    "print(dp[n] % 796796)"
   ]
  },
  {
   "cell_type": "code",
   "execution_count": 20,
   "metadata": {},
   "outputs": [
    {
     "name": "stdout",
     "output_type": "stream",
     "text": [
      "5\n"
     ]
    }
   ],
   "source": [
    "# 효율적인 화폐 구성\n",
    "\n",
    "n, m = map(int, input().split())\n",
    "moneys = []\n",
    "dp = [100001] * 10001\n",
    "for _ in range(n):\n",
    "    tmp = int(input())\n",
    "    dp[tmp] = 1\n",
    "    moneys.append(tmp)\n",
    "\n",
    "for money in moneys:\n",
    "    for i in range(money, m+1):\n",
    "            dp[i] = min(dp[i], dp[i-money] + 1)\n",
    "\n",
    "print(dp[m] if dp[m] != 100001 else -1)"
   ]
  }
 ],
 "metadata": {
  "kernelspec": {
   "display_name": "base",
   "language": "python",
   "name": "python3"
  },
  "language_info": {
   "codemirror_mode": {
    "name": "ipython",
    "version": 3
   },
   "file_extension": ".py",
   "mimetype": "text/x-python",
   "name": "python",
   "nbconvert_exporter": "python",
   "pygments_lexer": "ipython3",
   "version": "3.9.12"
  },
  "orig_nbformat": 4,
  "vscode": {
   "interpreter": {
    "hash": "df374f9080d02b295c5c67d9e2d72f8c33ee93bb960a0c1df2964c3ff6e7e57f"
   }
  }
 },
 "nbformat": 4,
 "nbformat_minor": 2
}
