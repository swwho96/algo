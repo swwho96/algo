{
 "cells": [
  {
   "cell_type": "markdown",
   "id": "a68c6a1a-ac8c-4f8d-898e-72656c21a443",
   "metadata": {},
   "source": [
    "# Greedy Algorithm"
   ]
  },
  {
   "cell_type": "markdown",
   "id": "69208819-a529-4590-8c59-4acb94dfc1c3",
   "metadata": {},
   "source": [
    "- 앞의 선택이 이후 선택에 영향을 주지 않는 선택\n",
    "- 각 단계별 로컬 최적해를 찾는 접근 방식"
   ]
  },
  {
   "cell_type": "code",
   "execution_count": 2,
   "id": "06b9c561-c8cc-487f-a15f-21fabf6c0d5b",
   "metadata": {},
   "outputs": [],
   "source": [
    "List = list"
   ]
  },
  {
   "cell_type": "code",
   "execution_count": 1,
   "id": "7de7d679",
   "metadata": {},
   "outputs": [
    {
     "name": "stdout",
     "output_type": "stream",
     "text": [
      "46\n"
     ]
    }
   ],
   "source": [
    "N, M, K = map(int, input().split())\n",
    "nums = list(map(int, input().split()))\n",
    "nums = sorted(nums)\n",
    "\n",
    "max_num_cnt = (M // K) * K * nums.pop()\n",
    "next_num_cnt = (M % K) * nums.pop()\n",
    "\n",
    "print(max_num_cnt + next_num_cnt)"
   ]
  },
  {
   "cell_type": "code",
   "execution_count": 5,
   "id": "662929eb",
   "metadata": {},
   "outputs": [
    {
     "name": "stdout",
     "output_type": "stream",
     "text": [
      "3\n"
     ]
    }
   ],
   "source": [
    "N, M = map(int, input().split())\n",
    "idx, maximum = 0, 0\n",
    "cards = []\n",
    "for i in range(N):\n",
    "    tmp = list(map(int, input().split()))\n",
    "    tmp_maximum = min(tmp)\n",
    "    if maximum < tmp_maximum:\n",
    "        maximum = tmp_maximum\n",
    "\n",
    "print(maximum)\n"
   ]
  },
  {
   "cell_type": "markdown",
   "id": "3997840f-e7f4-4258-b049-25b386508606",
   "metadata": {
    "tags": []
   },
   "source": [
    "### ex) 배낭 문제"
   ]
  },
  {
   "cell_type": "code",
   "execution_count": 16,
   "id": "1e09a4a1-e9c9-48b4-8f32-162fbb4c5ab5",
   "metadata": {},
   "outputs": [
    {
     "name": "stdout",
     "output_type": "stream",
     "text": [
      "17.333333333333332\n"
     ]
    }
   ],
   "source": [
    "cargo = [(4,12), (2,1), (10,4), (1,1), (2,2)]\n",
    "capacity = 15\n",
    "\n",
    "def fractional_knapsack(cargo, capacity):\n",
    "    pack = []\n",
    "    \n",
    "    # 단가 계산\n",
    "    for c in cargo:\n",
    "        pack.append((c[0]/c[1], c[0], c[1]))\n",
    "    \n",
    "    # 단가로 정렬(단가 높은 순서대로)\n",
    "    pack.sort(reverse=True)\n",
    "    \n",
    "    total_value = 0.0\n",
    "    for p in pack:\n",
    "        if capacity >= p[2]:\n",
    "            total_value += p[1]\n",
    "            capacity -= p[2]\n",
    "        else:\n",
    "            total_value += p[0] * capacity\n",
    "            break\n",
    "    \n",
    "    return total_value\n",
    "\n",
    "print(fractional_knapsack(cargo, capacity))"
   ]
  },
  {
   "cell_type": "markdown",
   "id": "29a54a64-34d9-4ef4-a18a-b6e0dbde0d3d",
   "metadata": {},
   "source": [
    "# [122. Best Time to Buy and Sell Stock II](https://leetcode.com/problems/best-time-to-buy-and-sell-stock-ii/)"
   ]
  },
  {
   "cell_type": "code",
   "execution_count": 20,
   "id": "4e03851a-bb95-47c3-97ff-978a6e3e7b7a",
   "metadata": {},
   "outputs": [],
   "source": [
    "'''\n",
    "You are given an integer array prices where prices[i] is the price of a given stock on the ith day.\n",
    "\n",
    "On each day, you may decide to buy and/or sell the stock. You can only hold at most one share of the stock at any time. However, you can buy it then immediately sell it on the same day.\n",
    "\n",
    "Find and return the maximum profit you can achieve.\n",
    "'''\n",
    "\n",
    "class Solution:\n",
    "    def maxProfit(self, prices: list[int]) -> int:\n",
    "        today, tomorrow = 0, 1\n",
    "        total_value = 0\n",
    "        while tomorrow <= len(prices)-1:\n",
    "            if prices[today] <= prices[tomorrow]:\n",
    "                total_value += (prices[tomorrow] - prices[today])\n",
    "                today, tomorrow = today+1, tomorrow+1\n",
    "            else:\n",
    "                today, tomorrow = today+1, tomorrow+1\n",
    "        return total_value"
   ]
  },
  {
   "cell_type": "markdown",
   "id": "4b6a132e-4936-4d77-b0de-394e1efde0a5",
   "metadata": {},
   "source": [
    "# [406. Queue Reconstruction by Height](https://leetcode.com/problems/queue-reconstruction-by-height/)"
   ]
  },
  {
   "cell_type": "code",
   "execution_count": 3,
   "id": "7315bae7-4e66-43c6-ad70-be43f9462235",
   "metadata": {},
   "outputs": [],
   "source": [
    "'''\n",
    "You are given an array of people, people, which are the attributes of some people in a queue (not necessarily in order).\n",
    "Each people[i] = [hi, ki] represents the ith person of height hi with exactly ki other people in front who have a height greater than or equal to hi.\n",
    "\n",
    "Reconstruct and return the queue that is represented by the input array people.\n",
    "The returned queue should be formatted as an array queue, where queue[j] = [hj, kj] is the attributes of the jth person in the queue (queue[0] is the person at the front of the queue).\n",
    "'''\n",
    "class Solution:\n",
    "    def reconstructQueue(self, people: List[List[int]]) -> List[List[int]]:\n",
    "        heap = []\n",
    "        for person in people:\n",
    "            heapq.heappush(heap, (-person[0], person[1]))\n",
    "        order = []\n",
    "        while heap:\n",
    "            person = heapq.heappop(heap)\n",
    "            order.insert(person[1], [-person[0], person[1]])\n",
    "        return order"
   ]
  },
  {
   "cell_type": "markdown",
   "id": "415bfdaf-e8f9-43fa-af73-9b14bffcff28",
   "metadata": {},
   "source": [
    "# [621. Task Schedular](https://leetcode.com/problems/task-scheduler/)"
   ]
  },
  {
   "cell_type": "code",
   "execution_count": 4,
   "id": "ed9db1db-7d95-4529-a20b-058af4bf6807",
   "metadata": {},
   "outputs": [],
   "source": [
    "'''\n",
    "Given a characters array tasks, representing the tasks a CPU needs to do, where each letter represents a different task.\n",
    "Tasks could be done in any order. Each task is done in one unit of time. For each unit of time, the CPU could complete either one task or just be idle.\n",
    "\n",
    "However, there is a non-negative integer n that represents the cooldown period between two same tasks (the same letter in the array), that is that there must be at least n units of time between any two same tasks.\n",
    "\n",
    "Return the least number of units of times that the CPU will take to finish all the given tasks.\n",
    "'''\n",
    "\n",
    "class Solution:\n",
    "    def leastInterval(self, tasks: List[str], n: int) -> int:\n",
    "        counter = collections.Counter(tasks)\n",
    "        result = 0\n",
    "        \n",
    "        while True:\n",
    "            sub_count = 0\n",
    "            for task, _ in counter.most_common(n+1):\n",
    "                sub_count += 1\n",
    "                result += 1\n",
    "                counter.subtrack(task)\n",
    "                counter += collections.Counter()\n",
    "                \n",
    "            if not counter:\n",
    "                break\n",
    "            \n",
    "            result += n- sub_count + 1\n",
    "            \n",
    "            \n",
    "        return result"
   ]
  },
  {
   "cell_type": "markdown",
   "id": "1b020ca1-c480-4c1f-be40-d7840b4692c9",
   "metadata": {},
   "source": [
    "# [134. Gas Station](https://leetcode.com/problems/gas-station)"
   ]
  },
  {
   "cell_type": "code",
   "execution_count": 5,
   "id": "38108300-7c7f-4211-a49c-d14a4da8b991",
   "metadata": {},
   "outputs": [],
   "source": [
    "'''\n",
    "There are n gas stations along a circular route, where the amount of gas at the ith station is gas[i].\n",
    "\n",
    "You have a car with an unlimited gas tank and it costs cost[i] of gas to travel from the ith station to its next (i + 1)th station.\n",
    "You begin the journey with an empty tank at one of the gas stations.\n",
    "\n",
    "Given two integer arrays gas and cost, return the starting gas station's index if you can travel around the circuit once in the clockwise direction, otherwise return -1.\n",
    "If there exists a solution, it is guaranteed to be unique\n",
    "'''\n",
    "\n",
    "class Solution:\n",
    "    def canCompleteCircuit(self, gas: List[int], cost: List[int]) -> int:\n",
    "        if sum(gas) < sum(cost):\n",
    "            return -1\n",
    "        \n",
    "        start, fuel = 0, 0\n",
    "        for i in range(len(gas)):\n",
    "            if gas[i] + fuel < cost[i]:\n",
    "                start = i+1\n",
    "                fuel = 0\n",
    "            else:\n",
    "                fuel += gas[i] - cost[i]\n",
    "        \n",
    "        return start"
   ]
  },
  {
   "cell_type": "markdown",
   "id": "34097d4b-0fc0-418c-8813-458c36c8534b",
   "metadata": {},
   "source": [
    "# [455. Assign Cookies](https://leetcode.com/problems/assign-cookies)"
   ]
  },
  {
   "cell_type": "code",
   "execution_count": 6,
   "id": "36976f31-c02f-44f4-a664-b3551fa655ad",
   "metadata": {},
   "outputs": [],
   "source": [
    "from bisect import bisect_left\n",
    "class Solution:\n",
    "    def findContentChildren(self, g: List[int], s: List[int]) -> int:\n",
    "        if len(s) == 0 or min(g) > max(s):\n",
    "            return 0\n",
    "        \n",
    "        g.sort()\n",
    "        s.sort()\n",
    "        give_cnt = 0\n",
    "        for cookie in s:\n",
    "            idx = bisect_left(g, cookie)\n",
    "            if len(g) <= 0:\n",
    "                continue\n",
    "            elif idx > len(g)-1:\n",
    "                g.pop(idx-1)\n",
    "                give_cnt += 1\n",
    "            elif (g[idx] > cookie):\n",
    "                continue\n",
    "            else:\n",
    "                g.pop(idx)\n",
    "                give_cnt += 1\n",
    "        return give_cnt"
   ]
  },
  {
   "attachments": {},
   "cell_type": "markdown",
   "id": "7212bdaf",
   "metadata": {},
   "source": [
    "## 이코테 유형별 기출문제"
   ]
  },
  {
   "cell_type": "code",
   "execution_count": 2,
   "id": "240eaabf",
   "metadata": {},
   "outputs": [
    {
     "name": "stdout",
     "output_type": "stream",
     "text": [
      "1\n"
     ]
    }
   ],
   "source": [
    "# 모험가 길드\n",
    "\n",
    "n = int(input())\n",
    "group = list(map(int, input().split()))\n",
    "group.sort()\n",
    "\n",
    "member_cnt = 0\n",
    "group_cnt = 0\n",
    "\n",
    "for g in group:\n",
    "    member_cnt += 1\n",
    "    if member_cnt >= g:\n",
    "        group_cnt += 1\n",
    "        member_cnt = 0\n",
    "\n",
    "print(group_cnt)"
   ]
  },
  {
   "cell_type": "code",
   "execution_count": 2,
   "id": "29009bcf",
   "metadata": {},
   "outputs": [
    {
     "name": "stdout",
     "output_type": "stream",
     "text": [
      "210\n"
     ]
    }
   ],
   "source": [
    "# 곱하기 혹은 더하기\n",
    "\n",
    "s = list(input())\n",
    "result = s[0]\n",
    "for i in range(1, len(s)):\n",
    "    if s[i-1] == '0' or s[i] == '0':\n",
    "        result += ('+' + s[i])\n",
    "    else:\n",
    "        result += ('*' + s[i])\n",
    "print(eval(result))"
   ]
  },
  {
   "cell_type": "code",
   "execution_count": 6,
   "id": "9103fa2c",
   "metadata": {},
   "outputs": [
    {
     "name": "stdout",
     "output_type": "stream",
     "text": [
      "3\n"
     ]
    }
   ],
   "source": [
    "# Q3. 문자열 뒤집기\n",
    "\n",
    "s = input()\n",
    "print(min(len(s.replace('0', ' ').split()), len(s.replace('1', ' ').split())))"
   ]
  },
  {
   "cell_type": "code",
   "execution_count": 10,
   "id": "a58c3093",
   "metadata": {},
   "outputs": [
    {
     "name": "stdout",
     "output_type": "stream",
     "text": [
      "551\n"
     ]
    }
   ],
   "source": [
    "# Q4. 만들 수 없는 금액\n",
    "\n",
    "n = int(input())\n",
    "coins = list(map(int, input().split()))\n",
    "coins.sort()\n",
    "\n",
    "target = 1\n",
    "for x in coins:\n",
    "    if target < x:\n",
    "        break\n",
    "    target += x\n",
    "\n",
    "print(target)"
   ]
  }
 ],
 "metadata": {
  "kernelspec": {
   "display_name": "Python 3.9.12 ('base')",
   "language": "python",
   "name": "python3"
  },
  "language_info": {
   "codemirror_mode": {
    "name": "ipython",
    "version": 3
   },
   "file_extension": ".py",
   "mimetype": "text/x-python",
   "name": "python",
   "nbconvert_exporter": "python",
   "pygments_lexer": "ipython3",
   "version": "3.9.12"
  },
  "vscode": {
   "interpreter": {
    "hash": "df374f9080d02b295c5c67d9e2d72f8c33ee93bb960a0c1df2964c3ff6e7e57f"
   }
  }
 },
 "nbformat": 4,
 "nbformat_minor": 5
}
