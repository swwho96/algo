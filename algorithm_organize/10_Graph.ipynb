{
 "cells": [
  {
   "attachments": {},
   "cell_type": "markdown",
   "metadata": {},
   "source": [
    "## 그래프 이론"
   ]
  },
  {
   "cell_type": "code",
   "execution_count": 1,
   "metadata": {},
   "outputs": [
    {
     "name": "stdout",
     "output_type": "stream",
     "text": [
      "1 1 1 1 5 5 "
     ]
    }
   ],
   "source": [
    "# 서로소 집합\n",
    "\n",
    "def find_parent(parent, x):\n",
    "    if parent[x] != x:\n",
    "        return find_parent(parent, parent[x])\n",
    "    return x\n",
    "\n",
    "def union_parent(parent, a, b):\n",
    "    a = find_parent(parent, a)\n",
    "    b = find_parent(parent, b)\n",
    "    parent[max(a, b)] = min(a, b)\n",
    "\n",
    "v, e = map(int, input().split())\n",
    "parent = [0] * (v+1)\n",
    "\n",
    "# 초기화\n",
    "for i in range(1, v+1):\n",
    "    parent[i] = i\n",
    "\n",
    "# union\n",
    "for _ in range(e):\n",
    "    a, b = map(int, input().split())\n",
    "    union_parent(parent, a, b)\n",
    "\n",
    "# 집합 나타내기\n",
    "for i in range(1, v+1):\n",
    "    print(find_parent(parent, i), end=' ')"
   ]
  },
  {
   "cell_type": "code",
   "execution_count": null,
   "metadata": {},
   "outputs": [],
   "source": [
    "# 사이클 여부 판단 (무방향 그래프일 때 가능)\n",
    "\n",
    "def find_parent(parent, x):\n",
    "    if parent[x] != x:\n",
    "        parent[x] = find_parent(parent, parent[x])\n",
    "    return parent[x]\n",
    "\n",
    "def union_parent(parent, a, b):\n",
    "    a = find_parent(parent, a)\n",
    "    b = find_parent(parent, b)\n",
    "    parent[max(a,b)] = min(a,b)\n",
    "\n",
    "v, e = map(int, input().split())\n",
    "parent = [0] * (v+1)\n",
    "\n",
    "# 초기화\n",
    "for i in range(1, v+1):\n",
    "    parent[i] = i\n",
    "\n",
    "cycle = False\n",
    "\n",
    "# union\n",
    "for _ in range(e):\n",
    "    a, b = map(int, input().split())\n",
    "    if find_parent(parent, a) == find_parent(parent, b):\n",
    "        cycle = True\n",
    "        break\n",
    "    else:\n",
    "        union_parent(parent, a, b)"
   ]
  },
  {
   "cell_type": "code",
   "execution_count": 8,
   "metadata": {},
   "outputs": [
    {
     "name": "stdout",
     "output_type": "stream",
     "text": [
      "0 7\n",
      "7 13\n",
      "20 23\n",
      "43 29\n",
      "72 34\n",
      "106 53\n",
      "159\n"
     ]
    }
   ],
   "source": [
    "# 크루스칼 알고리즘\n",
    "import heapq\n",
    "\n",
    "def find_parent(parent, x):\n",
    "    if parent[x] != x:\n",
    "        parent[x] = find_parent(parent, parent[x])\n",
    "    return parent[x]\n",
    "\n",
    "def union_parent(parent, a, b):\n",
    "    a = find_parent(parent, a)\n",
    "    b = find_parent(parent, b)\n",
    "    parent[max(a, b)] = min(a,b)\n",
    "\n",
    "v, e = map(int, input().split())\n",
    "parent = [0] * (v+1)\n",
    "\n",
    "edges, result = [], 0\n",
    "\n",
    "# 초기화\n",
    "for i in range(1, v+1):\n",
    "    parent[i] = i\n",
    "\n",
    "for _ in range(e):\n",
    "    a, b, cost = map(int, input().split())\n",
    "    heapq.heappush(edges, (cost, a, b))\n",
    "\n",
    "while edges:\n",
    "    cost, a, b = heapq.heappop(edges)\n",
    "    if find_parent(parent, a) != find_parent(parent, b):\n",
    "        union_parent(parent, a, b)\n",
    "        result += cost\n",
    "\n",
    "print(result)\n"
   ]
  },
  {
   "cell_type": "code",
   "execution_count": 10,
   "metadata": {},
   "outputs": [
    {
     "name": "stdout",
     "output_type": "stream",
     "text": [
      "1 2 5 3 6 4 7 "
     ]
    }
   ],
   "source": [
    "# 위상정렬 O(V+E)\n",
    "\n",
    "from collections import deque\n",
    "\n",
    "v, e = map(int, input().split())\n",
    "indegree = [0] * (v+1)\n",
    "graph = [[] for _ in range(v+1)]\n",
    "\n",
    "# 초기화\n",
    "for _ in range(e):\n",
    "    a, b = map(int, input().split())\n",
    "    graph[a].append(b)\n",
    "    indegree[b] += 1\n",
    "\n",
    "def topology_sort():\n",
    "    result = []\n",
    "    q = deque()\n",
    "\n",
    "    for i in range(1, v+1):\n",
    "        if indegree[i] == 0:\n",
    "            q.append(i)\n",
    "    \n",
    "    while q:\n",
    "        now = q.popleft()\n",
    "        result.append(now)\n",
    "        for i in graph[now]:\n",
    "            indegree[i] -= 1\n",
    "            if indegree[i] == 0:\n",
    "                q.append(i)\n",
    "\n",
    "    for i in result:\n",
    "        print(i, end=' ')\n",
    "\n",
    "topology_sort()"
   ]
  },
  {
   "cell_type": "code",
   "execution_count": null,
   "metadata": {},
   "outputs": [],
   "source": [
    "# 팀 결성 - 이코테 (나동빈 저)\n",
    "\n",
    "n, m = map(int, input().split())\n",
    "\n",
    "def find_parent(parent, x):\n",
    "    if parent[x] != x:\n",
    "        parent[x] = find_parent(parent, parent[x])\n",
    "    return parent[x]\n",
    "\n",
    "def union_parent(parent, a, b):\n",
    "    a = find_parent(parent, a)\n",
    "    b = find_parent(parent, b)\n",
    "    parent[max(a,b)] = min(a,b)\n",
    "\n",
    "parent = [i for i in range(n+1)]\n",
    "\n",
    "for _ in range(m):\n",
    "    op, a, b = map(int, input().split())\n",
    "    if op == 0:\n",
    "        union_parent(parent, a, b)\n",
    "    elif op == 1:\n",
    "        if find_parent(parent, a) == find_parent(parent, b):\n",
    "            print('YES')\n",
    "        else:\n",
    "            print('NO')"
   ]
  },
  {
   "cell_type": "code",
   "execution_count": 10,
   "metadata": {},
   "outputs": [
    {
     "name": "stdout",
     "output_type": "stream",
     "text": [
      "8\n"
     ]
    }
   ],
   "source": [
    "# 도시 분할 계획 - 이코테 (나동빈 저)\n",
    "import heapq\n",
    "\n",
    "def find_parent(parent, x):\n",
    "    if parent[x] != x:\n",
    "        parent[x] = find_parent(parent, parent[x])\n",
    "    return parent[x]\n",
    "\n",
    "def union_parent(parent, a, b):\n",
    "    a = find_parent(parent, a)\n",
    "    b = find_parent(parent, b)\n",
    "    parent[max(a,b)] = min(a,b)\n",
    "\n",
    "\n",
    "n, m = map(int, input().split())\n",
    "total_cost = 0\n",
    "cut_point = 0\n",
    "parent = [i for i in range(n+1)]\n",
    "q = []\n",
    "for _ in range(m):\n",
    "    a, b, c = map(int, input().split())\n",
    "    heapq.heappush(q, (c, a, b))\n",
    "\n",
    "\n",
    "while q:\n",
    "    cost, a, b = heapq.heappop(q)\n",
    "    if find_parent(parent, a) != find_parent(parent, b):\n",
    "        union_parent(parent, a, b)\n",
    "        total_cost += cost\n",
    "        cut_point = cost\n",
    "\n",
    "print(total_cost - cut_point)"
   ]
  },
  {
   "cell_type": "code",
   "execution_count": 16,
   "metadata": {},
   "outputs": [
    {
     "name": "stdout",
     "output_type": "stream",
     "text": [
      "10\n",
      "20\n",
      "14\n",
      "18\n",
      "17\n"
     ]
    }
   ],
   "source": [
    "# 커리큘럼 - 이코테 (나동빈 저)\n",
    "\n",
    "import copy\n",
    "from collections import deque\n",
    "\n",
    "v = int(input())\n",
    "query = [[] for _ in range(v+1)]\n",
    "indegree = [0] * (v+1)\n",
    "time = [0] * (v+1)\n",
    "\n",
    "for i in range(1, v+1):\n",
    "    data = list(map(int, input().split()))\n",
    "    time[i] = data[0]\n",
    "    for x in data[1:-1]:\n",
    "        query[x].append(i)\n",
    "        indegree[i] += 1\n",
    "\n",
    "\n",
    "def topology_sort():\n",
    "    result = copy.deepcopy(time)\n",
    "    q = deque()\n",
    "\n",
    "    for i in range(1, v+1):\n",
    "        if indegree[i] == 0:\n",
    "            q.append(i)\n",
    "\n",
    "    while q:\n",
    "        now = q.popleft()\n",
    "        for i in query[now]:\n",
    "            result[i] = max(result[i], result[now]+time[i])\n",
    "            indegree[i] -= 1\n",
    "            if indegree[i] == 0:\n",
    "                q.append(i)\n",
    "    \n",
    "    for i in range(1,v+1):\n",
    "        print(result[i])\n",
    "\n",
    "topology_sort()"
   ]
  },
  {
   "attachments": {},
   "cell_type": "markdown",
   "metadata": {},
   "source": [
    "## 이코테 유형별 알고리즘 "
   ]
  },
  {
   "cell_type": "code",
   "execution_count": 1,
   "metadata": {},
   "outputs": [
    {
     "name": "stdout",
     "output_type": "stream",
     "text": [
      "YES\n"
     ]
    }
   ],
   "source": [
    "## 여행 계획\n",
    "\n",
    "def find_parent(parent, x):\n",
    "    if parent[x] != x:\n",
    "        parent[x] = find_parent(parent, parent[x])\n",
    "    return parent[x]\n",
    "\n",
    "def union_parent(parent, a, b):\n",
    "    a = find_parent(parent, a)\n",
    "    b = find_parent(parent, b)\n",
    "    parent[max(a,b)] = min(a,b)\n",
    "\n",
    "n, m = map(int, input().split())\n",
    "parent = [i for i in range(n+1)]\n",
    "graph = []\n",
    "\n",
    "for _ in range(n):\n",
    "    graph.append(list(map(int, input().split())))\n",
    "\n",
    "for i in range(n):\n",
    "    for j in range(n):\n",
    "        if graph[i][j] == 1:\n",
    "            union_parent(parent, i+1, j+1)\n",
    "\n",
    "trip_plan = list(map(int, input().split()))\n",
    "flag = True\n",
    "for i in range(1, len(trip_plan)):\n",
    "    if find_parent(parent, trip_plan[i-1]) != find_parent(parent, trip_plan[i]):\n",
    "        flag = False\n",
    "        break\n",
    "\n",
    "if flag is True:\n",
    "    print('YES')\n",
    "else:\n",
    "    print('NO')"
   ]
  },
  {
   "cell_type": "code",
   "execution_count": 1,
   "metadata": {},
   "outputs": [
    {
     "name": "stdout",
     "output_type": "stream",
     "text": [
      "2\n"
     ]
    }
   ],
   "source": [
    "# Q 42. 탑승구\n",
    "\n",
    "def find_parent(parent, x):\n",
    "    if x != parent[x]:\n",
    "        parent[x] = find_parent(parent, parent[x])\n",
    "    return parent[x]\n",
    "\n",
    "def union_parent(parent, a, b):\n",
    "    a = find_parent(parent, a)\n",
    "    b = find_parent(parent, b)\n",
    "    parent[max(a,b)] = min(a,b)\n",
    "\n",
    "result = 0\n",
    "g = int(input())\n",
    "parent = [i for i in range(g+1)]\n",
    "\n",
    "p = int(input())\n",
    "for _ in range(p):\n",
    "    Gi = int(input())\n",
    "    if find_parent(parent, Gi) != 0:\n",
    "        result += 1\n",
    "        union_parent(parent, Gi, Gi-1)\n",
    "\n",
    "print(result)"
   ]
  },
  {
   "cell_type": "code",
   "execution_count": 9,
   "metadata": {},
   "outputs": [
    {
     "name": "stdout",
     "output_type": "stream",
     "text": [
      "5 0 3 5\n",
      "5 2 4 10\n",
      "6 3 5 16\n",
      "7 0 1 23\n",
      "7 1 4 30\n",
      "8 1 2 30\n",
      "8 4 5 30\n",
      "9 1 3 30\n",
      "9 4 6 39\n",
      "11 5 6 39\n",
      "15 3 4 39\n",
      "90 39\n",
      "51\n"
     ]
    }
   ],
   "source": [
    "# Q43. 어두운 길\n",
    "\n",
    "import heapq\n",
    "\n",
    "def find_parent(parent, x):\n",
    "    if parent[x] != x:\n",
    "        parent[x] = find_parent(parent, parent[x])\n",
    "    return parent[x]\n",
    "\n",
    "def union_parent(parent, a, b):\n",
    "    a = find_parent(parent, a)\n",
    "    b = find_parent(parent, b)\n",
    "    parent[max(a,b)] = min(a,b)\n",
    "\n",
    "while True:\n",
    "    n, m = map(int, input().split())\n",
    "    if n == 0 and m == 0:\n",
    "        break\n",
    "    parent = [i for i in range(n+1)]\n",
    "    total_cost = 0\n",
    "    result = 0\n",
    "    q = []\n",
    "    for _ in range(m):\n",
    "        x, y, z = map(int, input().split())\n",
    "        total_cost += z\n",
    "        heapq.heappush(q, (z, x, y))\n",
    "\n",
    "    while q:\n",
    "        cost, a, b = heapq.heappop(q)\n",
    "        if find_parent(parent, a) != find_parent(parent, b):\n",
    "            union_parent(parent, a, b)\n",
    "            result += cost\n",
    "\n",
    "    print(total_cost - result)\n"
   ]
  },
  {
   "cell_type": "code",
   "execution_count": 1,
   "metadata": {},
   "outputs": [
    {
     "ename": "ValueError",
     "evalue": "invalid literal for int() with base 10: ''",
     "output_type": "error",
     "traceback": [
      "\u001b[1;31m---------------------------------------------------------------------------\u001b[0m",
      "\u001b[1;31mValueError\u001b[0m                                Traceback (most recent call last)",
      "\u001b[1;32mc:\\Users\\swwho\\Desktop\\algo\\algorithm_organize\\10_Graph.ipynb Cell 13\u001b[0m in \u001b[0;36m<cell line: 5>\u001b[1;34m()\u001b[0m\n\u001b[0;32m      <a href='vscode-notebook-cell:/c%3A/Users/swwho/Desktop/algo/algorithm_organize/10_Graph.ipynb#X15sZmlsZQ%3D%3D?line=0'>1</a>\u001b[0m \u001b[39m# Q45. 최종 순위\u001b[39;00m\n\u001b[0;32m      <a href='vscode-notebook-cell:/c%3A/Users/swwho/Desktop/algo/algorithm_organize/10_Graph.ipynb#X15sZmlsZQ%3D%3D?line=2'>3</a>\u001b[0m \u001b[39mfrom\u001b[39;00m \u001b[39mcollections\u001b[39;00m \u001b[39mimport\u001b[39;00m deque\n\u001b[1;32m----> <a href='vscode-notebook-cell:/c%3A/Users/swwho/Desktop/algo/algorithm_organize/10_Graph.ipynb#X15sZmlsZQ%3D%3D?line=4'>5</a>\u001b[0m T \u001b[39m=\u001b[39m \u001b[39mint\u001b[39;49m(\u001b[39minput\u001b[39;49m())\n\u001b[0;32m      <a href='vscode-notebook-cell:/c%3A/Users/swwho/Desktop/algo/algorithm_organize/10_Graph.ipynb#X15sZmlsZQ%3D%3D?line=5'>6</a>\u001b[0m \u001b[39mfor\u001b[39;00m _ \u001b[39min\u001b[39;00m \u001b[39mrange\u001b[39m(T):\n\u001b[0;32m      <a href='vscode-notebook-cell:/c%3A/Users/swwho/Desktop/algo/algorithm_organize/10_Graph.ipynb#X15sZmlsZQ%3D%3D?line=6'>7</a>\u001b[0m     n \u001b[39m=\u001b[39m \u001b[39mint\u001b[39m(\u001b[39minput\u001b[39m())\n",
      "\u001b[1;31mValueError\u001b[0m: invalid literal for int() with base 10: ''"
     ]
    }
   ],
   "source": [
    "# Q45. 최종 순위\n",
    "\n",
    "from collections import deque\n",
    "import sys\n",
    "input = sys.stdin.realine\n",
    "\n",
    "def topology_sort(indegree, graph):\n",
    "    result = []\n",
    "    order = ''\n",
    "    q = deque()\n",
    "    cycle, only = False, True\n",
    "    for i in range(1, n+1):\n",
    "        if indegree[i] == 0:\n",
    "            q.append(i)\n",
    "    for i in range(n):\n",
    "        if len(q) == 0:\n",
    "            cycle = True\n",
    "            break\n",
    "        if len(q) >= 2:\n",
    "            only = False\n",
    "            break\n",
    "        node = q.popleft()\n",
    "        result.append(node)\n",
    "        for j in range(1, n+1):\n",
    "            if graph[node][j]:\n",
    "                indegree[j] -= 1\n",
    "                if indegree[j] == 0:\n",
    "                    q.append(j)\n",
    "    if cycle is True:\n",
    "        order = 'IMPOSSIBLE'\n",
    "    elif only is False:\n",
    "        order = '?'\n",
    "    else:\n",
    "        for i in result:\n",
    "            order += str(i) + ' '\n",
    "        order.rstrip()\n",
    "    return order \n",
    "\n",
    "T = int(input())\n",
    "for _ in range(T):\n",
    "    n = int(input())\n",
    "    # 초기\n",
    "    indegree = [0] * (n+1)\n",
    "    graph = [[False] * (n+1) for _ in range(n+1)]\n",
    "    last_year_order = list(map(int, input().split()))\n",
    "    \n",
    "    for i in range(n):\n",
    "        for j in range(i+1, n):\n",
    "            graph[last_year_order[i]][last_year_order[j]] = True\n",
    "            indegree[last_year_order[j]] += 1\n",
    "\n",
    "    m = int(input())\n",
    "    # 상대적 등수가 바뀐 순서쌍 입력\n",
    "    for _ in range(m):\n",
    "        a, b = map(int, input().split())\n",
    "        if graph[a][b]:\n",
    "            graph[a][b] = False\n",
    "            graph[b][a] = True\n",
    "            indegree[a] += 1\n",
    "            indegree[b] -= 1\n",
    "        else:\n",
    "            graph[a][b] = True\n",
    "            graph[b][a] = False\n",
    "            indegree[b] += 1\n",
    "            indegree[a] -= 1\n",
    "\n",
    "    order = topology_sort(indegree, graph)\n",
    "    print(order)"
   ]
  }
 ],
 "metadata": {
  "kernelspec": {
   "display_name": "base",
   "language": "python",
   "name": "python3"
  },
  "language_info": {
   "codemirror_mode": {
    "name": "ipython",
    "version": 3
   },
   "file_extension": ".py",
   "mimetype": "text/x-python",
   "name": "python",
   "nbconvert_exporter": "python",
   "pygments_lexer": "ipython3",
   "version": "3.9.12 (main, Apr  4 2022, 05:22:27) [MSC v.1916 64 bit (AMD64)]"
  },
  "orig_nbformat": 4,
  "vscode": {
   "interpreter": {
    "hash": "df374f9080d02b295c5c67d9e2d72f8c33ee93bb960a0c1df2964c3ff6e7e57f"
   }
  }
 },
 "nbformat": 4,
 "nbformat_minor": 2
}
