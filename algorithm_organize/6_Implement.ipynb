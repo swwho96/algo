{
 "cells": [
  {
   "attachments": {},
   "cell_type": "markdown",
   "metadata": {},
   "source": [
    "# 구현"
   ]
  },
  {
   "cell_type": "code",
   "execution_count": 2,
   "metadata": {},
   "outputs": [
    {
     "name": "stdout",
     "output_type": "stream",
     "text": [
      "3 4\n"
     ]
    }
   ],
   "source": [
    "# 상하좌우\n",
    "\n",
    "N = int(input())\n",
    "moves = input().split()\n",
    "direction = {'R': (0,1), 'L': (0,-1), 'D': (1,0), 'U': (-1,0)}\n",
    "start = (1,1)\n",
    "\n",
    "for move in moves:\n",
    "    nx = start[0] + direction[move][0]\n",
    "    ny = start[1] + direction[move][1]\n",
    "    if 1<=nx<=N and 1<=ny<=N:\n",
    "        start = (nx, ny)\n",
    "\n",
    "print(start[0], start[1])"
   ]
  },
  {
   "cell_type": "code",
   "execution_count": 13,
   "metadata": {},
   "outputs": [
    {
     "name": "stdout",
     "output_type": "stream",
     "text": [
      "11475\n"
     ]
    }
   ],
   "source": [
    "# 시각\n",
    "\n",
    "N = int(input())\n",
    "cnt = 0\n",
    "\n",
    "for h in range(N+1):\n",
    "    for m in range(60):\n",
    "        for s in range(60):\n",
    "            if '3' in str(h) + str(m) + str(s):\n",
    "                cnt += 1\n",
    "\n",
    "print(cnt)"
   ]
  },
  {
   "cell_type": "code",
   "execution_count": null,
   "metadata": {},
   "outputs": [],
   "source": [
    "direction_x = [-1,0,1,0]\n",
    "direction_y = [0,1,0,-1]\n",
    "\n",
    "def TurnLeft(di):\n",
    "    return di - 1 if di >= 1 else 3\n",
    "\n",
    "def Move(x, y, di):\n",
    "    return x+direction_x[di], y+direction_y[di]\n",
    "\n",
    "def Back(x, y, di):\n",
    "    return x-direction_x[di], y-direction_y[di]\n",
    "\n",
    "N, M = map(int, input().split())\n",
    "x, y, di = map(int, input().split())\n",
    "maps = []\n",
    "for i in range(N):\n",
    "    maps.append(list(map(int, input().split())))\n",
    "cnt = 1\n",
    "\n",
    "while True:\n",
    "    print(maps)\n",
    "    flag = False\n",
    "    for _ in range(4):\n",
    "        di = TurnLeft(di)\n",
    "        nx, ny = Move(x, y, di)\n",
    "        if 0<=nx<N and 0<=ny<M and maps[nx][ny] == 0:\n",
    "            flag = True\n",
    "            cnt += 1\n",
    "            maps[x][y] = 9\n",
    "            maps[nx][ny] = 9\n",
    "            x, y = nx, ny\n",
    "            break\n",
    "    if flag is True:\n",
    "        continue\n",
    "    else:\n",
    "        nx, ny = Back(x, y, di)\n",
    "        if maps[nx][ny] == 1:\n",
    "            print('The End')\n",
    "            break\n",
    "        else:\n",
    "            x, y = nx, ny\n",
    "\n",
    "print(cnt)"
   ]
  },
  {
   "attachments": {},
   "cell_type": "markdown",
   "metadata": {},
   "source": [
    "## 이코테 유형별 기출문제"
   ]
  },
  {
   "cell_type": "code",
   "execution_count": 4,
   "metadata": {},
   "outputs": [
    {
     "name": "stdout",
     "output_type": "stream",
     "text": [
      "READY\n"
     ]
    }
   ],
   "source": [
    "# 럭키 스트레이트\n",
    "\n",
    "n = list(map(int, input()))\n",
    "\n",
    "mid = len(n) // 2\n",
    "if sum(n[:mid]) == sum(n[mid:]):\n",
    "    print('LUCKY')\n",
    "else:\n",
    "    print('READY')"
   ]
  },
  {
   "cell_type": "code",
   "execution_count": null,
   "metadata": {},
   "outputs": [],
   "source": [
    "# 아기상어 - 백준 16236\n",
    "from collections import deque\n",
    "INF = int(1e9)\n",
    "dx = [-1,1,0,0]\n",
    "dy = [0,0,-1,1]\n",
    "\n",
    "n = int(input())\n",
    "fish_cnt = 0\n",
    "shark = 2\n",
    "graph = []\n",
    "for _ in range(n):\n",
    "    graph.append(list(map(int, input().split())))\n",
    "\n",
    "\n",
    "# 총 물고기 수\n",
    "for i in range(n):\n",
    "    for j in range(n):\n",
    "        if graph[i][j] == 9:\n",
    "            x, y = i, j\n",
    "            graph[i][j] = 0\n",
    "        if graph[i][j] != 0 and graph[i][j] != 9:\n",
    "            fish_cnt += 1\n",
    "\n",
    "# 최단거리\n",
    "def bfs():\n",
    "    dist = [[-1] * n for _ in range(n)]\n",
    "    q = deque([(x, y)])\n",
    "    dist[x][y] = 0\n",
    "    while q:\n",
    "        x, y = q.poplef()\n",
    "        for i in range(4):\n",
    "            nx = x + dx[i]\n",
    "            ny = y + dy[i]\n",
    "            if 0<=nx<n and 0<=ny<n:\n",
    "                if dist[nx][ny] == -1 and graph[nx][ny] <= shark:\n",
    "                    dist[nx][ny] = dist[x][y] + 1\n",
    "                    q.append((nx, ny))\n",
    "    return dist\n",
    "\n",
    "\n",
    "# 다음 물고기\n",
    "def find(dist):\n",
    "    x, y = 0, 0\n",
    "    min_dist = INF\n",
    "    for i in range(n):\n",
    "        for j in range(n):\n",
    "            if dist[i][j] != -1 and 1 <= graph[i][j] and graph[i][j] < shark:\n",
    "                if dist[i][j] < min_dist:\n",
    "                    x, y = i, j\n",
    "                    min_dist = dist[i][j]\n",
    "    if min_dist == INF:\n",
    "        return None\n",
    "    else:\n",
    "        return x, y, min_dist\n",
    "\n",
    "\n",
    "result = 0\n",
    "ate = 0\n",
    "\n",
    "while True:\n",
    "    value = find(bfs())\n",
    "    if value == None:\n",
    "        print(result)\n",
    "        break\n",
    "    else:\n",
    "        now_x, now_y = value[0], value[1]\n",
    "        result += value[2]\n",
    "        graph[now_x][now_y] = 0\n",
    "        ate += 1\n",
    "        if ate >= shark:\n",
    "            shark += 1\n",
    "            ate = 0\n"
   ]
  },
  {
   "cell_type": "code",
   "execution_count": 2,
   "metadata": {},
   "outputs": [
    {
     "name": "stdout",
     "output_type": "stream",
     "text": [
      "ADDIJJJKKLSS20\n"
     ]
    }
   ],
   "source": [
    "# 문자열 재정렬\n",
    "\n",
    "string, nums= [], 0\n",
    "s = input()\n",
    "for i in s:\n",
    "    if i.isdigit():\n",
    "        nums += int(i)\n",
    "    else:\n",
    "        string.append(i)\n",
    "\n",
    "print(''.join(sorted(string)) + str(nums))"
   ]
  },
  {
   "cell_type": "code",
   "execution_count": null,
   "metadata": {},
   "outputs": [],
   "source": [
    "# Q9. 문자열 압축\n",
    "\n",
    "def solution(s):\n",
    "    INF = int(1e9)\n",
    "    answer = INF\n",
    "    n = len(s)\n",
    "    for i in range(1, n+1):\n",
    "        tmp = ''\n",
    "        prev = s[:i]\n",
    "        cnt = 1\n",
    "        for idx in range(i, n, i):\n",
    "            now = s[idx:idx+i]\n",
    "            if prev == now:\n",
    "                cnt += 1\n",
    "            else:\n",
    "                tmp += str(cnt)+prev if cnt > 1 else prev\n",
    "                cnt = 1\n",
    "                prev = now\n",
    "        tmp += str(cnt)+prev if cnt > 1 else prev\n",
    "        if answer > len(tmp):\n",
    "            answer = len(tmp)\n",
    "    return answer"
   ]
  },
  {
   "cell_type": "code",
   "execution_count": 4,
   "metadata": {},
   "outputs": [
    {
     "name": "stdout",
     "output_type": "stream",
     "text": [
      "[[1, 4, 7], [2, 5, 8], [3, 6, 9]]\n"
     ]
    }
   ],
   "source": [
    "# Q10. 자물쇠와 열쇠\n",
    "\n",
    "def right_rotate_90_degree(key):\n",
    "    new_key = []\n",
    "    for i in zip(*graph):\n",
    "        new_key.append(list(reversed(i)))\n",
    "    return new_key\n",
    "\n",
    "def check(new_lock):\n",
    "    n = len(new_lock) // 3\n",
    "    for i in range(n, n*2):\n",
    "        for j in range(n, n*2):\n",
    "            if new_lock[i][j] != 1:\n",
    "                return False\n",
    "    return True\n",
    "\n",
    "def solution(key, lock):\n",
    "    m = len(key)\n",
    "    n = len(lock)\n",
    "    \n",
    "    # 자물쇠 확장하기\n",
    "    new_lock = [[0 for _ in range(n*3)] for _ in range(n*3)]\n",
    "    for i in range(n):\n",
    "        for j in range(n):\n",
    "            new_lock[i+n][j+n] = lock[i][j]\n",
    "\n",
    "    # 열쇠 확인하기\n",
    "    for _ in range(4):\n",
    "        key = right_rotate_90_degree(key)\n",
    "        for x in range(n*2):\n",
    "            for y in range(n*2):\n",
    "                for i in range(m):\n",
    "                    for j in range(m):\n",
    "                        new_lock[x+i][y+j] += key[i][j]\n",
    "                if check(new_lock) == True:\n",
    "                    return True\n",
    "                for i in range(m):\n",
    "                    for j in range(m):\n",
    "                        new_lock[x+i][y+j] -= key[i][j]\n",
    "    return False"
   ]
  },
  {
   "cell_type": "code",
   "execution_count": null,
   "metadata": {},
   "outputs": [],
   "source": [
    "# Q11. 뱀\n",
    "\n",
    "from collections import deque\n",
    "import sys\n",
    "input = sys.stdin.readline\n",
    "\n",
    "n = int(input().rstrip())\n",
    "graph = [[0] * n for _ in range(n)]\n",
    "dx = [0,1,0,-1]\n",
    "dy = [1,0,-1,0]\n",
    "\n",
    "# 사과 놓기\n",
    "k = int(input().rstrip())\n",
    "for _ in range(k):\n",
    "    x, y = map(int, input().split())\n",
    "    graph[x-1][y-1] = 1\n",
    "\n",
    "# 방향전환 명령\n",
    "l = int(input().rstrip())\n",
    "turn_command_list = [''] * 10001\n",
    "for _ in range(l):\n",
    "    sec, command = map(str, input().split())\n",
    "    turn_command_list[int(sec)] = command\n",
    "\n",
    "# 방향전환 함수 정의\n",
    "def Turn(direct:int, command:str)->int:\n",
    "    if command == 'L':\n",
    "        direct = (direct - 1) % 4\n",
    "    elif command == 'D':\n",
    "        direct = (direct + 1) % 4\n",
    "    return direct\n",
    "\n",
    "time = 0\n",
    "direct = 0\n",
    "head = [0, 0]\n",
    "graph[0][0] = 9\n",
    "tails = deque([])\n",
    "while True:\n",
    "    \n",
    "    # 시간 1 증가\n",
    "    time += 1\n",
    "    # 머리 한 칸 이동\n",
    "    nx = head[0] + dx[direct]\n",
    "    ny = head[1] + dy[direct]\n",
    "    \n",
    "    # 벽이거나 자기 자신이면 게임 끝\n",
    "    if 0 > nx or nx >= n or 0 > ny or ny >= n or graph[nx][ny] == 9: \n",
    "        print(nx, ny)\n",
    "        break\n",
    "\n",
    "    # 사과면 몸길이+1\n",
    "    if graph[nx][ny] == 1:\n",
    "        tails.append(head)\n",
    "        head = [nx, ny]\n",
    "\n",
    "    # 사과 아니라면 머리와 꼬리 동시 이동\n",
    "    if graph[nx][ny] == 0:\n",
    "        if tails:\n",
    "            remove_x, remove_y = tails.popleft()\n",
    "            graph[remove_x][remove_y] = 0\n",
    "            tails.append([head[0],head[1]])\n",
    "        else:\n",
    "            graph[head[0]][head[1]] = 0\n",
    "        head = [nx, ny]\n",
    "    graph[nx][ny] = 9\n",
    "\n",
    "    if turn_command_list[time] != '':\n",
    "        direct = Turn(direct, turn_command_list[time])\n",
    "\n",
    "print(time)"
   ]
  }
 ],
 "metadata": {
  "kernelspec": {
   "display_name": "base",
   "language": "python",
   "name": "python3"
  },
  "language_info": {
   "codemirror_mode": {
    "name": "ipython",
    "version": 3
   },
   "file_extension": ".py",
   "mimetype": "text/x-python",
   "name": "python",
   "nbconvert_exporter": "python",
   "pygments_lexer": "ipython3",
   "version": "3.9.12 (main, Apr  4 2022, 05:22:27) [MSC v.1916 64 bit (AMD64)]"
  },
  "orig_nbformat": 4,
  "vscode": {
   "interpreter": {
    "hash": "df374f9080d02b295c5c67d9e2d72f8c33ee93bb960a0c1df2964c3ff6e7e57f"
   }
  }
 },
 "nbformat": 4,
 "nbformat_minor": 2
}
