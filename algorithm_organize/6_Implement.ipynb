{
 "cells": [
  {
   "attachments": {},
   "cell_type": "markdown",
   "metadata": {},
   "source": [
    "# 구현"
   ]
  },
  {
   "cell_type": "code",
   "execution_count": 2,
   "metadata": {},
   "outputs": [
    {
     "name": "stdout",
     "output_type": "stream",
     "text": [
      "3 4\n"
     ]
    }
   ],
   "source": [
    "# 상하좌우\n",
    "\n",
    "N = int(input())\n",
    "moves = input().split()\n",
    "direction = {'R': (0,1), 'L': (0,-1), 'D': (1,0), 'U': (-1,0)}\n",
    "start = (1,1)\n",
    "\n",
    "for move in moves:\n",
    "    nx = start[0] + direction[move][0]\n",
    "    ny = start[1] + direction[move][1]\n",
    "    if 1<=nx<=N and 1<=ny<=N:\n",
    "        start = (nx, ny)\n",
    "\n",
    "print(start[0], start[1])"
   ]
  },
  {
   "cell_type": "code",
   "execution_count": 13,
   "metadata": {},
   "outputs": [
    {
     "name": "stdout",
     "output_type": "stream",
     "text": [
      "11475\n"
     ]
    }
   ],
   "source": [
    "# 시각\n",
    "\n",
    "N = int(input())\n",
    "cnt = 0\n",
    "\n",
    "for h in range(N+1):\n",
    "    for m in range(60):\n",
    "        for s in range(60):\n",
    "            if '3' in str(h) + str(m) + str(s):\n",
    "                cnt += 1\n",
    "\n",
    "print(cnt)"
   ]
  },
  {
   "cell_type": "code",
   "execution_count": null,
   "metadata": {},
   "outputs": [],
   "source": [
    "direction_x = [-1,0,1,0]\n",
    "direction_y = [0,1,0,-1]\n",
    "\n",
    "def TurnLeft(di):\n",
    "    return di - 1 if di >= 1 else 3\n",
    "\n",
    "def Move(x, y, di):\n",
    "    return x+direction_x[di], y+direction_y[di]\n",
    "\n",
    "def Back(x, y, di):\n",
    "    return x-direction_x[di], y-direction_y[di]\n",
    "\n",
    "N, M = map(int, input().split())\n",
    "x, y, di = map(int, input().split())\n",
    "maps = []\n",
    "for i in range(N):\n",
    "    maps.append(list(map(int, input().split())))\n",
    "cnt = 1\n",
    "\n",
    "while True:\n",
    "    print(maps)\n",
    "    flag = False\n",
    "    for _ in range(4):\n",
    "        di = TurnLeft(di)\n",
    "        nx, ny = Move(x, y, di)\n",
    "        if 0<=nx<N and 0<=ny<M and maps[nx][ny] == 0:\n",
    "            flag = True\n",
    "            cnt += 1\n",
    "            maps[x][y] = 9\n",
    "            maps[nx][ny] = 9\n",
    "            x, y = nx, ny\n",
    "            break\n",
    "    if flag is True:\n",
    "        continue\n",
    "    else:\n",
    "        nx, ny = Back(x, y, di)\n",
    "        if maps[nx][ny] == 1:\n",
    "            print('The End')\n",
    "            break\n",
    "        else:\n",
    "            x, y = nx, ny\n",
    "\n",
    "print(cnt)"
   ]
  }
 ],
 "metadata": {
  "kernelspec": {
   "display_name": "base",
   "language": "python",
   "name": "python3"
  },
  "language_info": {
   "codemirror_mode": {
    "name": "ipython",
    "version": 3
   },
   "file_extension": ".py",
   "mimetype": "text/x-python",
   "name": "python",
   "nbconvert_exporter": "python",
   "pygments_lexer": "ipython3",
   "version": "3.9.12"
  },
  "orig_nbformat": 4,
  "vscode": {
   "interpreter": {
    "hash": "df374f9080d02b295c5c67d9e2d72f8c33ee93bb960a0c1df2964c3ff6e7e57f"
   }
  }
 },
 "nbformat": 4,
 "nbformat_minor": 2
}
