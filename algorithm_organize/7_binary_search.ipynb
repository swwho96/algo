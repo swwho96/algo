{
 "cells": [
  {
   "attachments": {},
   "cell_type": "markdown",
   "metadata": {},
   "source": [
    "## 이진탐색"
   ]
  },
  {
   "cell_type": "code",
   "execution_count": 1,
   "metadata": {},
   "outputs": [
    {
     "name": "stdout",
     "output_type": "stream",
     "text": [
      "7 3\n"
     ]
    }
   ],
   "source": [
    "## 이진탐색\n",
    "\n",
    "a = list(map(int, input().split()))\n",
    "target = int(input())\n",
    "start, end = 0, len(a)-1\n",
    "while start <= end:\n",
    "    mid = (start+end) // 2\n",
    "    if a[mid] == target:\n",
    "        break\n",
    "    if a[mid] > target:\n",
    "        end = mid - 1\n",
    "    else:\n",
    "        start = mid + 1\n",
    "\n",
    "print(a[mid], mid)"
   ]
  },
  {
   "cell_type": "code",
   "execution_count": 3,
   "metadata": {},
   "outputs": [
    {
     "name": "stdout",
     "output_type": "stream",
     "text": [
      "no yes yes\n"
     ]
    }
   ],
   "source": [
    "# 부품 찾기 - 이코테 (나동빈 저)\n",
    "\n",
    "def binary_search(a, target):\n",
    "    start, end = 0, len(a)-1\n",
    "    while start <= end:\n",
    "        mid = (start + end) // 2\n",
    "        if a[mid] == target:\n",
    "            return True\n",
    "        if a[mid] > target:\n",
    "            end = mid - 1\n",
    "        else:\n",
    "            start = mid + 1\n",
    "    return False\n",
    "\n",
    "array = list(map(int, input().split()))\n",
    "targets = list(map(int, input().split()))\n",
    "\n",
    "array = sorted(array)\n",
    "answer = ''\n",
    "\n",
    "for t in targets:\n",
    "    if binary_search(array, t) is True:\n",
    "        answer += 'yes '\n",
    "    else:\n",
    "        answer += 'no '\n",
    "\n",
    "print(answer.rstrip())"
   ]
  },
  {
   "cell_type": "code",
   "execution_count": 4,
   "metadata": {},
   "outputs": [
    {
     "name": "stdout",
     "output_type": "stream",
     "text": [
      "15\n"
     ]
    }
   ],
   "source": [
    "# 떡볶이 떡 만들기 - 이코테 (나동빈 저)\n",
    "\n",
    "n, m = map(int, input().split())\n",
    "array = list(map(int, input().split()))\n",
    "\n",
    "start, end = 0, max(array)\n",
    "answer = 0\n",
    "\n",
    "while start<=end:\n",
    "    mid = (start+end) // 2\n",
    "    total = 0\n",
    "    for i in array:\n",
    "        if i > mid:\n",
    "            total += (i-mid)\n",
    "    if total < m:\n",
    "        end = mid - 1\n",
    "    else:\n",
    "        answer = mid\n",
    "        start = mid + 1\n",
    "\n",
    "print(answer)"
   ]
  }
 ],
 "metadata": {
  "kernelspec": {
   "display_name": "base",
   "language": "python",
   "name": "python3"
  },
  "language_info": {
   "codemirror_mode": {
    "name": "ipython",
    "version": 3
   },
   "file_extension": ".py",
   "mimetype": "text/x-python",
   "name": "python",
   "nbconvert_exporter": "python",
   "pygments_lexer": "ipython3",
   "version": "3.9.12"
  },
  "orig_nbformat": 4,
  "vscode": {
   "interpreter": {
    "hash": "df374f9080d02b295c5c67d9e2d72f8c33ee93bb960a0c1df2964c3ff6e7e57f"
   }
  }
 },
 "nbformat": 4,
 "nbformat_minor": 2
}
