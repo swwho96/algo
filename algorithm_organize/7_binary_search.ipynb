{
 "cells": [
  {
   "attachments": {},
   "cell_type": "markdown",
   "metadata": {},
   "source": [
    "## 이진탐색"
   ]
  },
  {
   "cell_type": "code",
   "execution_count": 1,
   "metadata": {},
   "outputs": [
    {
     "name": "stdout",
     "output_type": "stream",
     "text": [
      "7 3\n"
     ]
    }
   ],
   "source": [
    "## 이진탐색\n",
    "\n",
    "a = list(map(int, input().split()))\n",
    "target = int(input())\n",
    "start, end = 0, len(a)-1\n",
    "while start <= end:\n",
    "    mid = (start+end) // 2\n",
    "    if a[mid] == target:\n",
    "        break\n",
    "    if a[mid] > target:\n",
    "        end = mid - 1\n",
    "    else:\n",
    "        start = mid + 1\n",
    "\n",
    "print(a[mid], mid)"
   ]
  },
  {
   "cell_type": "code",
   "execution_count": 3,
   "metadata": {},
   "outputs": [
    {
     "name": "stdout",
     "output_type": "stream",
     "text": [
      "no yes yes\n"
     ]
    }
   ],
   "source": [
    "# 부품 찾기 - 이코테 (나동빈 저)\n",
    "\n",
    "def binary_search(a, target):\n",
    "    start, end = 0, len(a)-1\n",
    "    while start <= end:\n",
    "        mid = (start + end) // 2\n",
    "        if a[mid] == target:\n",
    "            return True\n",
    "        if a[mid] > target:\n",
    "            end = mid - 1\n",
    "        else:\n",
    "            start = mid + 1\n",
    "    return False\n",
    "\n",
    "array = list(map(int, input().split()))\n",
    "targets = list(map(int, input().split()))\n",
    "\n",
    "array = sorted(array)\n",
    "answer = ''\n",
    "\n",
    "for t in targets:\n",
    "    if binary_search(array, t) is True:\n",
    "        answer += 'yes '\n",
    "    else:\n",
    "        answer += 'no '\n",
    "\n",
    "print(answer.rstrip())"
   ]
  },
  {
   "cell_type": "code",
   "execution_count": 4,
   "metadata": {},
   "outputs": [
    {
     "name": "stdout",
     "output_type": "stream",
     "text": [
      "15\n"
     ]
    }
   ],
   "source": [
    "# 떡볶이 떡 만들기 - 이코테 (나동빈 저)\n",
    "\n",
    "n, m = map(int, input().split())\n",
    "array = list(map(int, input().split()))\n",
    "\n",
    "start, end = 0, max(array)\n",
    "answer = 0\n",
    "\n",
    "while start<=end:\n",
    "    mid = (start+end) // 2\n",
    "    total = 0\n",
    "    for i in array:\n",
    "        if i > mid:\n",
    "            total += (i-mid)\n",
    "    if total < m:\n",
    "        end = mid - 1\n",
    "    else:\n",
    "        answer = mid\n",
    "        start = mid + 1\n",
    "\n",
    "print(answer)"
   ]
  },
  {
   "attachments": {},
   "cell_type": "markdown",
   "metadata": {},
   "source": [
    "## 이코테 유형별 기출문제"
   ]
  },
  {
   "cell_type": "code",
   "execution_count": 3,
   "metadata": {},
   "outputs": [
    {
     "name": "stdout",
     "output_type": "stream",
     "text": [
      "-1\n"
     ]
    }
   ],
   "source": [
    "# Q 27. 정렬된 배열에서 특정 수의 개수 구하기\n",
    "\n",
    "from bisect import bisect_left\n",
    "\n",
    "n, x = map(int, input().split())\n",
    "nums = list(map(int, input().split()))\n",
    "\n",
    "result = bisect_left(nums,x+1) - bisect_left(nums, x)\n",
    "print(result if result > 0 else -1)"
   ]
  },
  {
   "cell_type": "code",
   "execution_count": 5,
   "metadata": {},
   "outputs": [
    {
     "name": "stdout",
     "output_type": "stream",
     "text": [
      "-1\n"
     ]
    }
   ],
   "source": [
    "# Q 28. 고정점 찾기\n",
    "\n",
    "n = int(input())\n",
    "nums = list(map(int, input().split()))\n",
    "start, end = 0, n-1\n",
    "result = -1\n",
    "while start <= end:\n",
    "    mid = (start+end) // 2\n",
    "    if mid == nums[mid]:\n",
    "        result = nums[mid]\n",
    "        break\n",
    "    if mid > nums[mid]:\n",
    "        start = mid + 1\n",
    "    else:\n",
    "        end = mid - 1\n",
    "\n",
    "print(result)"
   ]
  },
  {
   "cell_type": "code",
   "execution_count": 13,
   "metadata": {},
   "outputs": [
    {
     "name": "stdout",
     "output_type": "stream",
     "text": [
      "1 99 50 2\n",
      "1 49 25 2\n",
      "1 24 12 2\n",
      "1 11 6 3\n",
      "7 11 9 2\n",
      "7 8 7 3\n",
      "8 8 8 2\n",
      "8\n"
     ]
    }
   ],
   "source": [
    "# Q29. 공유기 설치\n",
    "\n",
    "n, c = map(int, input().split())\n",
    "homes = []\n",
    "for _ in range(n):\n",
    "    homes.append(int(input()))\n",
    "homes.sort()\n",
    "result = 0\n",
    "s, e = 1, homes[-1] - homes[0]\n",
    "\n",
    "while s <= e:\n",
    "    cnt = 1\n",
    "    wifi = homes[0]\n",
    "    interval = (s+e) // 2\n",
    "    for i in range(1,n):\n",
    "        if homes[i] >= (wifi + interval):\n",
    "            cnt += 1\n",
    "            wifi = homes[i]\n",
    "    if cnt >= c:\n",
    "        s = interval + 1\n",
    "        result = interval\n",
    "    else:\n",
    "        e = interval - 1\n",
    "\n",
    "print(result)"
   ]
  },
  {
   "cell_type": "code",
   "execution_count": null,
   "metadata": {},
   "outputs": [],
   "source": [
    "# Q30. 가사 검색\n",
    "\n",
    "from bisect import bisect_left, bisect_right\n",
    "\n",
    "def word_count_by_range(word, left, right):\n",
    "    return bisect_right(word, right) - bisect_left(word, left)\n",
    "\n",
    "def solution(words, queries):\n",
    "    result = []\n",
    "    word_list =[[] for i in range(100001)]\n",
    "    word_list_reversed =[[] for i in range(100001)]\n",
    "    \n",
    "    # 리스트에 단어들 넣기\n",
    "    for word in words:\n",
    "        word_list[len(word)].append(word)\n",
    "        word_list_reversed[len(word)].append(word[::-1])\n",
    "        \n",
    "    # 단어 리스트 정렬\n",
    "    for i in range(100001):\n",
    "        word_list[i].sort()\n",
    "        word_list_reversed[i].sort()\n",
    "        \n",
    "    # 쿼리 위치 찾기\n",
    "    for q in queries:\n",
    "        if q[0] != '?':\n",
    "            cnt = word_count_by_range(word_list[len(q)], q.replace('?', 'a'), q.replace('?', 'z'))\n",
    "        else:\n",
    "            cnt = word_count_by_range(word_list_reversed[len(q)], q[::-1].replace('?', 'a'), q[::-1].replace('?', 'z'))\n",
    "        result.append(cnt)\n",
    "    return result\n",
    "\n",
    "\n",
    "from bisect import bisect_left, bisect_right\n",
    "\n",
    "def solution(words, queries):\n",
    "    answer = []\n",
    "    word_list = [[] for _ in range(100001)]\n",
    "    word_list_reversed = [[] for _ in range(100001)]\n",
    "    # 길이 별 단어 리스트\n",
    "    for word in words:\n",
    "        word_list[len(word)].append(word)\n",
    "        word_list_reversed[len(word)].append(word[::-1])\n",
    "        \n",
    "    # 길이 별 단어 리스트 정렬\n",
    "    for i in range(100001):\n",
    "        word_list[i].sort()\n",
    "        word_list_reversed[i].sort()\n",
    "    \n",
    "    # 쿼리 확인\n",
    "    for q in queries:\n",
    "        if q[0] != '?': # 시작 알파벳이 정해진 경우\n",
    "            query_from_a = q.replace('?', 'a')\n",
    "            query_to_z = q.replace('?', 'z')\n",
    "            cnt = bisect_right(word_list[len(q)], query_to_z) - bisect_left(word_list[len(q)], query_from_a)\n",
    "            answer.append(cnt)\n",
    "        else: # ?로 시작하는 경우\n",
    "            q = q[::-1]\n",
    "            query_from_a = q.replace('?', 'a')\n",
    "            query_to_z = q.replace('?', 'z')\n",
    "            cnt = bisect_right(word_list_reversed[len(q)], query_to_z) - bisect_left(word_list_reversed[len(q)], query_from_a)\n",
    "            answer.append(cnt)\n",
    "    return answer\n",
    "\n"
   ]
  }
 ],
 "metadata": {
  "kernelspec": {
   "display_name": "base",
   "language": "python",
   "name": "python3"
  },
  "language_info": {
   "codemirror_mode": {
    "name": "ipython",
    "version": 3
   },
   "file_extension": ".py",
   "mimetype": "text/x-python",
   "name": "python",
   "nbconvert_exporter": "python",
   "pygments_lexer": "ipython3",
   "version": "3.9.12 (main, Apr  4 2022, 05:22:27) [MSC v.1916 64 bit (AMD64)]"
  },
  "orig_nbformat": 4,
  "vscode": {
   "interpreter": {
    "hash": "df374f9080d02b295c5c67d9e2d72f8c33ee93bb960a0c1df2964c3ff6e7e57f"
   }
  }
 },
 "nbformat": 4,
 "nbformat_minor": 2
}
