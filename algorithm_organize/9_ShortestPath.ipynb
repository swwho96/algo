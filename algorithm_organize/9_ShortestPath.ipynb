{
 "cells": [
  {
   "attachments": {},
   "cell_type": "markdown",
   "metadata": {},
   "source": [
    "## 최단 경로"
   ]
  },
  {
   "cell_type": "code",
   "execution_count": 2,
   "metadata": {},
   "outputs": [
    {
     "name": "stdout",
     "output_type": "stream",
     "text": [
      "0\n",
      "2\n",
      "3\n",
      "1\n",
      "2\n",
      "4\n"
     ]
    }
   ],
   "source": [
    "#  다익스트라 알고리즘\n",
    "\n",
    "INF = int(1e9)\n",
    "\n",
    "n, m = map(int, input().split())\n",
    "start = int(input())\n",
    "graph = [[] for i in range(n+1)]\n",
    "visitied = [False] * (n+1)\n",
    "distance = [INF] * (n+1)\n",
    "\n",
    "for _ in range(m):\n",
    "    a, b, c = map(int, input().split())\n",
    "    graph[a].append((b, c))\n",
    "\n",
    "def FindNow():\n",
    "    min_value = INF\n",
    "    idx = 0\n",
    "    for i in range(1, n+1):\n",
    "        if distance[i] < min_value and not visitied[i]:\n",
    "            min_value = distance[i]\n",
    "            idx = i\n",
    "    return idx\n",
    "\n",
    "def dijkstra(start):\n",
    "    distance[start] = 0\n",
    "    visitied[start] = True\n",
    "    for j in graph[start]:\n",
    "        distance[j[0]] = j[1]\n",
    "    for i in range(n-1):\n",
    "        now = FindNow()\n",
    "        visitied[now] = True\n",
    "        for j in graph[now]:\n",
    "            cost = distance[now] + j[1]\n",
    "            if cost < distance[j[0]]:\n",
    "                distance[j[0]] = cost\n",
    "\n",
    "dijkstra(start)\n",
    "\n",
    "for i in range(1, n+1):\n",
    "    if distance[i] == INF:\n",
    "        print('INFINTY')\n",
    "    else:\n",
    "        print(distance[i])"
   ]
  },
  {
   "cell_type": "code",
   "execution_count": 2,
   "metadata": {},
   "outputs": [
    {
     "name": "stdout",
     "output_type": "stream",
     "text": [
      "0 4 8 6 \n",
      "3 0 7 9 \n",
      "5 9 0 4 \n",
      "7 11 2 0 \n"
     ]
    }
   ],
   "source": [
    "# 플로이드 워셜 알고리즘\n",
    "\n",
    "INF = int(1e9)\n",
    "n, m = map(int, input().split())\n",
    "graph = [[INF] * (n+1) for _ in range(n+1)]\n",
    "\n",
    "for i in range(n+1):\n",
    "    for j in range(n+1):\n",
    "        if i == j:\n",
    "            graph[i][j] = 0\n",
    "\n",
    "for _ in range(m):\n",
    "    a, b, c = map(int, input().split())\n",
    "    graph[a][b] = c\n",
    "\n",
    "for k in range(n+1):\n",
    "    for i in range(n+1):\n",
    "        for j in range(n+1):\n",
    "            graph[i][j] = min(graph[i][j], graph[i][k]+graph[k][j])\n",
    "\n",
    "for i in range(1, n+1):\n",
    "    for j in range(1, n+1):\n",
    "        if graph[i][j] == INF:\n",
    "            print('I', end=' ')\n",
    "        else:\n",
    "            print(graph[i][j], end=' ')\n",
    "    print()"
   ]
  },
  {
   "cell_type": "code",
   "execution_count": 2,
   "metadata": {},
   "outputs": [
    {
     "name": "stdout",
     "output_type": "stream",
     "text": [
      "-1\n"
     ]
    }
   ],
   "source": [
    "# 미래 도시\n",
    "\n",
    "INF = int(1e9)\n",
    "\n",
    "n, m = map(int, input().split())\n",
    "graph = [[INF] * (n+1) for _ in range(n+1)]\n",
    "\n",
    "# 초기화\n",
    "for i in range(1, n+1):\n",
    "    for j in range(1, n+1):\n",
    "        if i == j: graph[i][j] = 0\n",
    "\n",
    "for _ in range(m):\n",
    "    a, b = map(int, input().split())\n",
    "    graph[a][b], graph[b][a] = 1, 1\n",
    "\n",
    "x, m = map(int, input().split())\n",
    "\n",
    "for k in range(1, n+1):\n",
    "    for i in range(1, n+1):\n",
    "        for j in range(1, n+1):\n",
    "            graph[i][j] = min(graph[i][j], graph[i][k]+graph[k][j])\n",
    "\n",
    "print(graph[1][k] + graph[k][x] if graph[1][k] + graph[k][x] <= INF else -1)"
   ]
  },
  {
   "cell_type": "code",
   "execution_count": null,
   "metadata": {},
   "outputs": [],
   "source": [
    "# 전보\n",
    "\n",
    "import heapq\n",
    "\n",
    "INF = int(1e9)\n",
    "n, m, c = map(int, input().split())\n",
    "graph = [[] for _ in range(n+1)]\n",
    "distance = [INF] * (n+1)\n",
    "\n",
    "# 거리 입력\n",
    "for _ in range(m):\n",
    "    x, y, z = map(int, input().split())\n",
    "    graph[x].append((y, z))\n",
    "\n",
    "q = []\n",
    "heapq.heappush(q, (0, c))\n",
    "while q:\n",
    "    dist, now = heapq.heappop(q)\n",
    "    if distance[now] < dist:\n",
    "        continue\n",
    "    for i in graph[now]:\n",
    "        cost = dist + i[1]\n",
    "        if cost < distance[i[0]]:\n",
    "            distance[i[0]] = cost\n",
    "            heapq.heappush(q, (cost, i[0]))\n",
    "\n",
    "\n",
    "cnt = 0\n",
    "max_dist = 0\n",
    "for d in distance:\n",
    "    if d != INF:\n",
    "        cnt += 1\n",
    "        max_dist = max(max_dist, d)"
   ]
  },
  {
   "attachments": {},
   "cell_type": "markdown",
   "metadata": {},
   "source": [
    "## 이코테 유형별 기출문제"
   ]
  },
  {
   "cell_type": "code",
   "execution_count": 4,
   "metadata": {},
   "outputs": [
    {
     "name": "stdout",
     "output_type": "stream",
     "text": [
      "0 2 3 2 5 \n",
      "12 0 15 2 5 \n",
      "8 9 0 2 5 \n",
      "10 7 13 0 3 \n",
      "7 4 10 6 0 \n"
     ]
    }
   ],
   "source": [
    "## 플로이드\n",
    "\n",
    "n = int(input())\n",
    "v = int(input())\n",
    "INF = int(1e9)\n",
    "\n",
    "graph = [[INF] * (n+1) for i in range(n+1)]\n",
    "\n",
    "# 초기화\n",
    "for i in range(1, n+1):\n",
    "    for j in range(1, n+1):\n",
    "        if i == j: graph[i][j] = 0\n",
    "\n",
    "for _ in range(v):\n",
    "    a, b, c = map(int, input().split())\n",
    "    graph[a][b] = c\n",
    "\n",
    "for k in range(1, n+1):\n",
    "    for i in range(1, n+1):\n",
    "        for j in range(1, n+1):\n",
    "            graph[i][j] = min(graph[i][j], graph[i][k]+graph[k][j])\n",
    "\n",
    "for i in range(1,n+1):\n",
    "    for j in range(1, n+1):\n",
    "        print(graph[i][j], end=' ')\n",
    "    print()\n"
   ]
  },
  {
   "cell_type": "code",
   "execution_count": 7,
   "metadata": {},
   "outputs": [
    {
     "name": "stdout",
     "output_type": "stream",
     "text": [
      "[[1000000000, 1000000000, 1000000000, 1000000000, 1000000000, 1000000000, 1000000000], [1000000000, 0, 2, 1000000000, 2, 1, 3], [1000000000, 1000000000, 0, 1000000000, 1000000000, 1000000000, 1000000000], [1000000000, 1000000000, 2, 0, 1, 1000000000, 2], [1000000000, 1000000000, 1, 1000000000, 0, 1000000000, 1], [1000000000, 1000000000, 1, 1000000000, 1, 0, 2], [1000000000, 1000000000, 1000000000, 1000000000, 1000000000, 1000000000, 0]]\n",
      "1\n"
     ]
    }
   ],
   "source": [
    "# Q 38. 정확한 순위\n",
    "\n",
    "INF = int(1e9)\n",
    "result = 0\n",
    "n, m = map(int, input().split())\n",
    "graph = [[INF] * (n+1) for _ in range(n+1)]\n",
    "\n",
    "for i in range(1,n+1):\n",
    "    for j in range(1, n+1):\n",
    "        if i == j: graph[i][j] = 0\n",
    "\n",
    "for _ in range(m):\n",
    "    a, b = map(int, input().split())\n",
    "    graph[a][b] = 1\n",
    "\n",
    "for k in range(1, n+1):\n",
    "    for i in range(1,n+1):\n",
    "        for j in range(1,n+1):\n",
    "            graph[i][j] = min(graph[i][j], graph[i][k]+graph[k][j])\n",
    "\n",
    "for i in range(1,n+1):\n",
    "    cnt = 0\n",
    "    for j in range(1,n+1):\n",
    "        if graph[i][j] != INF or graph[j][i] != INF:\n",
    "            cnt += 1\n",
    "    if cnt == i:\n",
    "        result += 1\n",
    "\n",
    "print(result)"
   ]
  }
 ],
 "metadata": {
  "kernelspec": {
   "display_name": "base",
   "language": "python",
   "name": "python3"
  },
  "language_info": {
   "codemirror_mode": {
    "name": "ipython",
    "version": 3
   },
   "file_extension": ".py",
   "mimetype": "text/x-python",
   "name": "python",
   "nbconvert_exporter": "python",
   "pygments_lexer": "ipython3",
   "version": "3.9.12"
  },
  "orig_nbformat": 4,
  "vscode": {
   "interpreter": {
    "hash": "df374f9080d02b295c5c67d9e2d72f8c33ee93bb960a0c1df2964c3ff6e7e57f"
   }
  }
 },
 "nbformat": 4,
 "nbformat_minor": 2
}
