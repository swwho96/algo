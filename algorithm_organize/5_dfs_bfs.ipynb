{
 "cells": [
  {
   "cell_type": "markdown",
   "id": "5fa6b218-4783-4b97-bf82-7c0b433ce845",
   "metadata": {},
   "source": [
    "# Graph - DFS/BFS"
   ]
  },
  {
   "cell_type": "markdown",
   "id": "da5eb9bd-0edd-4092-852a-3e87c68522ef",
   "metadata": {},
   "source": [
    "## DFS\n",
    "\n",
    "1. 탐색 시작 노드를 스택에 삽입하고 방문 처리를 한다.\n",
    "2. 스택의 최상단 노드에 방문하지 않은 인접 노드가 있으면 그 인접 노드를 스택에 넣고 방문 처리를 한다. 방문하지 않은 인접 노드가 없으면 스택에서 최상단 노드를 꺼낸다\n",
    "3. 2번의 과정을 더 이 상 수행할 수 없을 때까지 반복한다."
   ]
  },
  {
   "cell_type": "code",
   "execution_count": 1,
   "id": "fa5df46f-f977-4c40-9b71-88845b3c6a24",
   "metadata": {},
   "outputs": [],
   "source": [
    "# DFS\n",
    "\n",
    "def dfs(graph, v, visited):\n",
    "    visited[v] = True\n",
    "    for i in graph[v]:\n",
    "        if not visited[i]:\n",
    "            dfs(graph, i, visited)"
   ]
  },
  {
   "cell_type": "markdown",
   "id": "2a9ba002-d660-471b-bbbd-bcb1d54f4b6b",
   "metadata": {},
   "source": [
    "## BFS\n",
    "\n",
    "1. 탐색 시작 노드를 큐에 삽입하고 방문 처리 한다.\n",
    "2. 큐에서 노드를 꺼내 해당 노드의 인접 노드 중에서 방문하지 않은 노드를 모두 큐에 삽입하고 방문 처리를 한다.\n",
    "3. 2의 과정을 더 이상 수행할 수 없을 때까지 반복한다."
   ]
  },
  {
   "cell_type": "code",
   "execution_count": 2,
   "id": "349139ac-5fe0-4a84-9e77-558ba132a0a7",
   "metadata": {},
   "outputs": [],
   "source": [
    "# BFS\n",
    "from collections import deque\n",
    "\n",
    "def bfs(graph, start, visited):\n",
    "    q = deque([strat])\n",
    "    visited[start] = True\n",
    "    while q:\n",
    "        v = q.popleft()\n",
    "        for i in graph[v]:\n",
    "            if not visited[i]:\n",
    "                q.append(i)\n",
    "                visited[i] = True"
   ]
  },
  {
   "cell_type": "markdown",
   "id": "ac12df38-45ec-482c-82e6-081e5e0216a3",
   "metadata": {},
   "source": [
    "---"
   ]
  },
  {
   "cell_type": "code",
   "execution_count": 1,
   "id": "ac9615df-c9ec-4a5e-a4dd-2ef2b871d791",
   "metadata": {},
   "outputs": [
    {
     "name": "stdout",
     "output_type": "stream",
     "text": [
      "3\n",
      "3\n"
     ]
    }
   ],
   "source": [
    "# 음료수 얼려 먹기 (출처 - 이코테 / 나동빈 저)\n",
    "\n",
    "from collections import deque\n",
    "def ice_counter(graph):\n",
    "    n, m = len(graph), len(graph[0])\n",
    "    \n",
    "    def dfs(x, y):\n",
    "        if x >= n or x < 0 or y >= m or y < 0:\n",
    "            return False\n",
    "        if graph[x][y] == 0:\n",
    "            graph[x][y] = 1\n",
    "            dfs(x-1, y)\n",
    "            dfs(x+1, y)\n",
    "            dfs(x, y-1)\n",
    "            dfs(x, y+1)\n",
    "            return True\n",
    "        return False\n",
    "    \n",
    "    ice_cnt = 0\n",
    "    for row in range(n):\n",
    "        for col in range(m):\n",
    "            if dfs(row, col) is True:\n",
    "                ice_cnt += 1\n",
    "    return ice_cnt\n",
    "        \n",
    "print(ice_counter([[0,0,1,1,0], [0,0,0,1,1],[1,1,1,1,1],[0,0,0,0,0]]))\n",
    "print(ice_counter([[0,0,1],[0,1,0],[1,0,1]]))"
   ]
  },
  {
   "cell_type": "code",
   "execution_count": 10,
   "id": "c59f24e7-8c80-4266-a8e2-10916278f110",
   "metadata": {},
   "outputs": [
    {
     "name": "stdout",
     "output_type": "stream",
     "text": [
      "3\n"
     ]
    }
   ],
   "source": [
    "from collections import deque\n",
    "graph = [[0,0,1,1,0],[0,0,0,1,1],[1,1,1,1,1],[0,0,0,0,0]]\n",
    "n, m = len(graph), len(graph[0])\n",
    "dx = [-1, 1, 0, 0]\n",
    "dy = [0, 0, -1, 1]\n",
    "ice_cnt = 0\n",
    "\n",
    "def bfs(x, y):\n",
    "    q = deque([(x,y)])\n",
    "    if graph[x][y] == 1:\n",
    "        return False\n",
    "    while q:\n",
    "        qx, qy = q.popleft()\n",
    "        graph[qx][qy] = 1\n",
    "        for i in range(4):\n",
    "            nx = qx + dx[i]\n",
    "            ny = qy + dy[i]\n",
    "            if 0 <= nx <n and 0 <= ny < m and graph[nx][ny] == 0:\n",
    "                q.append((nx, ny))\n",
    "    return True\n",
    "\n",
    "for row in range(n):\n",
    "    for col in range(m):\n",
    "        if bfs(row, col) is True:\n",
    "            ice_cnt += 1\n",
    "print(ice_cnt)"
   ]
  },
  {
   "cell_type": "markdown",
   "id": "bcb77a81-eb0d-4775-ab1e-8e9e695d87fc",
   "metadata": {},
   "source": [
    "---"
   ]
  },
  {
   "cell_type": "code",
   "execution_count": 25,
   "id": "d1bc86aa-2e23-47e2-80b0-37e96f81225a",
   "metadata": {},
   "outputs": [
    {
     "name": "stdout",
     "output_type": "stream",
     "text": [
      "10\n"
     ]
    }
   ],
   "source": [
    "# 미로탈출 (출처 - 이것이 코딩 테스트다 / 나동빈 저)\n",
    "from collections import deque\n",
    "def solution(n:int, m:int, graph:list) -> int:\n",
    "    dx = [-1,1,0,0]\n",
    "    dy = [0,0,-1,1]\n",
    "    \n",
    "    def bfs(x:int, y:int) -> int:\n",
    "        q = deque([(x,y)])\n",
    "        while q:\n",
    "            qx, qy = q.popleft()\n",
    "            for i in range(4):\n",
    "                nx = qx + dx[i]\n",
    "                ny = qy + dy[i]\n",
    "                if nx >= n or ny >= m or nx < 0 or ny < 0 or graph[nx][ny] == 0:\n",
    "                    continue\n",
    "                if graph[nx][ny] == 1:\n",
    "                    graph[nx][ny] = graph[qx][qy] + 1\n",
    "                    q.append((nx,ny))\n",
    "        return graph[n-1][m-1]\n",
    "    \n",
    "    return bfs(0,0)\n",
    "    \n",
    "print(solution(5,6,[[1,0,1,0,1,0],[1,1,1,1,1,1],[0,0,0,0,0,1],[1,1,1,1,1,1],[1,1,1,1,1,1,1]]))"
   ]
  },
  {
   "cell_type": "markdown",
   "id": "3870309b-23b6-4059-af47-1609b32c6d32",
   "metadata": {},
   "source": [
    "---"
   ]
  },
  {
   "cell_type": "code",
   "execution_count": 24,
   "id": "ba333220-836d-4232-a107-468e66308a20",
   "metadata": {},
   "outputs": [
    {
     "name": "stdout",
     "output_type": "stream",
     "text": [
      "[4]\n"
     ]
    }
   ],
   "source": [
    "# 특정 거리의 도시 찾기 (출처 - 이것이 코딩 테스트다 / 나동빈 저)\n",
    "\n",
    "from collections import deque\n",
    "def solution(n:int, m:int, k:int, x:int, nodes:list)->int:\n",
    "    # 그래프 만들기\n",
    "    graph = [[] for _ in range(n+1)]\n",
    "    for node in nodes:\n",
    "        graph[node[0]].append(node[1])\n",
    "    \n",
    "    distance = [-1] * (n+1)\n",
    "    distance[x] = 0\n",
    "    \n",
    "    q = deque([x])\n",
    "    while q:\n",
    "        now = q.popleft()\n",
    "        for i in graph[now]:\n",
    "            if distance[i] == -1:\n",
    "                distance[i] = distance[now] + 1\n",
    "                q.append(i)\n",
    "    \n",
    "    answer = []\n",
    "    for i, dis in enumerate(distance):\n",
    "        if dis == k:\n",
    "            answer.append(i)\n",
    "    return -1 if not len(answer) else answer\n",
    "\n",
    "print(solution(4,4,2,1,[[1,2], [1,3], [2,3], [2,4]]))"
   ]
  },
  {
   "cell_type": "markdown",
   "id": "4e66b0bf-ec5a-4241-89da-8871c618c541",
   "metadata": {},
   "source": [
    "---"
   ]
  },
  {
   "cell_type": "code",
   "execution_count": 12,
   "id": "36485fae-ae91-41bc-b57c-4ac4476104d6",
   "metadata": {},
   "outputs": [
    {
     "name": "stdout",
     "output_type": "stream",
     "text": [
      "5\n"
     ]
    }
   ],
   "source": [
    "# programmers - 타겟넘버\n",
    "\n",
    "def solution(numbers:list, target:int)->int:\n",
    "    n = len(numbers)\n",
    "    answer = []\n",
    "    def dfs(a:int, idx:int):\n",
    "        if idx == n:\n",
    "            if a == target:\n",
    "                answer.append(a)\n",
    "            return \n",
    "        else:\n",
    "            dfs(a + numbers[idx], idx+1)\n",
    "            dfs(a - numbers[idx], idx+1)\n",
    "    dfs(0, 0)\n",
    "    return len(answer)\n",
    "\n",
    "\n",
    "print(solution([1,1,1,1,1], 3))"
   ]
  },
  {
   "cell_type": "markdown",
   "id": "4b43a1e9-82d3-47d7-a594-65729453e46d",
   "metadata": {},
   "source": [
    "---"
   ]
  },
  {
   "cell_type": "code",
   "execution_count": 3,
   "id": "5314582d-4a59-4569-85bf-142a87e5e353",
   "metadata": {},
   "outputs": [
    {
     "name": "stdout",
     "output_type": "stream",
     "text": [
      "[[9, 0, 1, 1, 1], [1, 0, 1, 0, 1], [1, 0, 1, 1, 1], [1, 1, 1, 0, 1], [0, 0, 0, 0, 1]]\n",
      "[[9, 0, 1, 1, 1], [9, 0, 1, 0, 1], [1, 0, 1, 1, 1], [1, 1, 1, 0, 1], [0, 0, 0, 0, 1]]\n",
      "[[9, 0, 1, 1, 1], [9, 0, 1, 0, 1], [9, 0, 1, 1, 1], [1, 1, 1, 0, 1], [0, 0, 0, 0, 1]]\n",
      "[[9, 0, 1, 1, 1], [9, 0, 1, 0, 1], [9, 0, 1, 1, 1], [9, 1, 1, 0, 1], [0, 0, 0, 0, 1]]\n",
      "[[9, 0, 1, 1, 1], [9, 0, 1, 0, 1], [9, 0, 1, 1, 1], [9, 9, 1, 0, 1], [0, 0, 0, 0, 1]]\n",
      "[[9, 0, 1, 1, 1], [9, 0, 1, 0, 1], [9, 0, 1, 1, 1], [9, 9, 9, 0, 1], [0, 0, 0, 0, 1]]\n",
      "[[9, 0, 1, 1, 1], [9, 0, 1, 0, 1], [9, 0, 9, 1, 1], [9, 9, 9, 0, 1], [0, 0, 0, 0, 1]]\n",
      "[[9, 0, 1, 1, 1], [9, 0, 9, 0, 1], [9, 0, 9, 1, 1], [9, 9, 9, 0, 1], [0, 0, 0, 0, 1]]\n",
      "[[9, 0, 9, 1, 1], [9, 0, 9, 0, 1], [9, 0, 9, 1, 1], [9, 9, 9, 0, 1], [0, 0, 0, 0, 1]]\n",
      "[[9, 0, 9, 9, 1], [9, 0, 9, 0, 1], [9, 0, 9, 1, 1], [9, 9, 9, 0, 1], [0, 0, 0, 0, 1]]\n",
      "[[9, 0, 9, 9, 9], [9, 0, 9, 0, 1], [9, 0, 9, 1, 1], [9, 9, 9, 0, 1], [0, 0, 0, 0, 1]]\n",
      "[[9, 0, 9, 9, 9], [9, 0, 9, 0, 9], [9, 0, 9, 1, 1], [9, 9, 9, 0, 1], [0, 0, 0, 0, 1]]\n",
      "[[9, 0, 9, 9, 9], [9, 0, 9, 0, 9], [9, 0, 9, 1, 9], [9, 9, 9, 0, 1], [0, 0, 0, 0, 1]]\n",
      "[[9, 0, 9, 9, 9], [9, 0, 9, 0, 9], [9, 0, 9, 1, 9], [9, 9, 9, 0, 9], [0, 0, 0, 0, 1]]\n",
      "14\n",
      "[[9, 0, 9, 9, 9], [9, 0, 9, 0, 9], [9, 0, 9, 9, 9], [9, 9, 9, 0, 9], [0, 0, 0, 0, 1]]\n",
      "[14]\n"
     ]
    }
   ],
   "source": [
    "# programmers - 게임 맵 최단거리\n",
    "\n",
    "def solution(maps):\n",
    "    dx = [-1,1,0,0]\n",
    "    dy = [0,0,-1,1]\n",
    "    n, m = len(maps), len(maps[0])\n",
    "    answer = []\n",
    "    mapss = maps.copy()\n",
    "    \n",
    "    def dfs(x:int, y:int, cnt:int)->int:\n",
    "        if x==(n-1) and y==(m-1):\n",
    "            # if answer > cnt:\n",
    "            print(cnt)\n",
    "            answer.append(cnt)\n",
    "            # mapss = maps\n",
    "            return\n",
    "        else:\n",
    "            mapss[x][y] = 9\n",
    "            print(mapss)\n",
    "            for i in range(4):\n",
    "                nx = x + dx[i]\n",
    "                ny = y + dy[i]\n",
    "                if n <= nx or m <= ny or nx < 0 or ny < 0:\n",
    "                    continue\n",
    "                if mapss[nx][ny] == 1:\n",
    "                    dfs(nx, ny, cnt+1)\n",
    "    dfs(0,0,0)\n",
    "    return answer\n",
    "\n",
    "print(solution([[1,0,1,1,1],[1,0,1,0,1],[1,0,1,1,1],[1,1,1,0,1],[0,0,0,0,1]]))"
   ]
  },
  {
   "cell_type": "code",
   "execution_count": 1,
   "id": "bf68c669-1991-40b9-aa69-b6a8adaeed13",
   "metadata": {},
   "outputs": [],
   "source": [
    "from collections import deque\n",
    "def solution(maps):\n",
    "    dx = [-1,1,0,0]\n",
    "    dy = [0,0,-1,1]\n",
    "    n, m = len(maps), len(maps[0])\n",
    "    def bfs(x,y,cnt):\n",
    "        q = deque([(x,y)])\n",
    "        while q:\n",
    "            x, y = q.popleft()\n",
    "            for i in range(4):\n",
    "                nx = x + dx[i]\n",
    "                ny = y + dy[i]\n",
    "                if nx < 0 or nx >= n or ny < 0 or ny >= m:\n",
    "                    continue\n",
    "                if maps[nx][ny] == 0:\n",
    "                    continue\n",
    "                if maps[nx][ny] == 1:\n",
    "                    maps[nx][ny] = maps[x][y] + 1\n",
    "                    q.append((nx,ny))\n",
    "        return maps[n-1][m-1]\n",
    "    return -1 if bfs(0,0,0) == 1 else bfs(0,0,0)"
   ]
  },
  {
   "cell_type": "markdown",
   "id": "f2e41dee-8963-429f-aa73-71407e38732e",
   "metadata": {},
   "source": [
    "---"
   ]
  },
  {
   "cell_type": "code",
   "execution_count": null,
   "id": "3ba6dd11-17cf-4f87-8098-fe274026b5c8",
   "metadata": {},
   "outputs": [
    {
     "name": "stdin",
     "output_type": "stream",
     "text": [
      " 8 8\n",
      " 2 0 0 0 0 0 0 2\n",
      " 2 0 0 0 0 0 0 2\n",
      " 2 0 0 0 0 0 0 2\n",
      " 2 0 0 0 0 0 0 2\n",
      " 2 0 0 0 0 0 0 2\n",
      " 0 0 0 0 0 0 0 0\n",
      " 0 0 0 0 0 0 0 0\n",
      " 0 0 0 0 0 0 0 0\n"
     ]
    },
    {
     "name": "stdout",
     "output_type": "stream",
     "text": [
      "0\n"
     ]
    }
   ],
   "source": [
    "# 연구소 (출처 - 이것이 코딩 테스트다 / 나동빈 저)\n",
    "n, m = map(int, input().split())\n",
    "maps = []\n",
    "for i in range(n):\n",
    "    maps.append(list(map(int, input().split())))\n",
    "\n",
    "temp = [[0] * m for _ in range(n)]\n",
    "answer = 0\n",
    "dx = [-1,1,0,0]\n",
    "dy = [0,0,-1,1]\n",
    "\n",
    "def makewall(cnt):\n",
    "    if cnt == 3:\n",
    "        global temp\n",
    "        for i in range(n):\n",
    "            for j in range(m):\n",
    "                temp[i][j] = maps[i][j]\n",
    "        count = 0\n",
    "        for a in range(n):\n",
    "            for b in range(m):\n",
    "                if temp[a][b] == 2:\n",
    "                    virus_dfs(a,b)\n",
    "        for pp in temp:\n",
    "            count += pp.count(0)\n",
    "        global answer\n",
    "        return max(answer, count)\n",
    "    for i in range(n):\n",
    "        for j in range(m):\n",
    "            if maps[i][j] == 0:\n",
    "                maps[i][j] = 1\n",
    "                makewall(cnt+1)\n",
    "                maps[i][j] = 0\n",
    "\n",
    "\n",
    "# 바이러스 퍼트리기\n",
    "def virus_dfs(x,y):\n",
    "    for i in range(4):\n",
    "        nx = x + dx[i]\n",
    "        ny = y + dy[i]\n",
    "        if nx >= 0 and nx < n and ny >= 0 and ny < m:\n",
    "            if temp[nx][ny] == 0:\n",
    "                temp[nx][ny] = 2\n",
    "                virus_dfs(nx, ny)\n",
    "\n",
    "makewall(0)\n",
    "print(answer)"
   ]
  }
 ],
 "metadata": {
  "kernelspec": {
   "display_name": "Python 3 (ipykernel)",
   "language": "python",
   "name": "python3"
  },
  "language_info": {
   "codemirror_mode": {
    "name": "ipython",
    "version": 3
   },
   "file_extension": ".py",
   "mimetype": "text/x-python",
   "name": "python",
   "nbconvert_exporter": "python",
   "pygments_lexer": "ipython3",
   "version": "3.9.12"
  }
 },
 "nbformat": 4,
 "nbformat_minor": 5
}
