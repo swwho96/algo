{
 "cells": [
  {
   "cell_type": "markdown",
   "id": "5fa6b218-4783-4b97-bf82-7c0b433ce845",
   "metadata": {},
   "source": [
    "# Graph - DFS/BFS"
   ]
  },
  {
   "cell_type": "markdown",
   "id": "da5eb9bd-0edd-4092-852a-3e87c68522ef",
   "metadata": {},
   "source": [
    "## DFS\n",
    "\n",
    "1. 탐색 시작 노드를 스택에 삽입하고 방문 처리를 한다.\n",
    "2. 스택의 최상단 노드에 방문하지 않은 인접 노드가 있으면 그 인접 노드를 스택에 넣고 방문 처리를 한다. 방문하지 않은 인접 노드가 없으면 스택에서 최상단 노드를 꺼낸다\n",
    "3. 2번의 과정을 더 이 상 수행할 수 없을 때까지 반복한다."
   ]
  },
  {
   "cell_type": "code",
   "execution_count": 1,
   "id": "fa5df46f-f977-4c40-9b71-88845b3c6a24",
   "metadata": {},
   "outputs": [],
   "source": [
    "# DFS\n",
    "\n",
    "def dfs(graph, v, visited):\n",
    "    visited[v] = True\n",
    "    for i in graph[v]:\n",
    "        if not visited[i]:\n",
    "            dfs(graph, i, visited)"
   ]
  },
  {
   "cell_type": "markdown",
   "id": "2a9ba002-d660-471b-bbbd-bcb1d54f4b6b",
   "metadata": {},
   "source": [
    "## BFS\n",
    "\n",
    "1. 탐색 시작 노드를 큐에 삽입하고 방문 처리 한다.\n",
    "2. 큐에서 노드를 꺼내 해당 노드의 인접 노드 중에서 방문하지 않은 노드를 모두 큐에 삽입하고 방문 처리를 한다.\n",
    "3. 2의 과정을 더 이상 수행할 수 없을 때까지 반복한다."
   ]
  },
  {
   "cell_type": "code",
   "execution_count": 1,
   "id": "349139ac-5fe0-4a84-9e77-558ba132a0a7",
   "metadata": {},
   "outputs": [],
   "source": [
    "# BFS\n",
    "from collections import deque\n",
    "\n",
    "def bfs(graph, start, visited):\n",
    "    q = deque([strat])\n",
    "    visited[start] = True\n",
    "    while q:\n",
    "        v = q.popleft()\n",
    "        for i in graph[v]:\n",
    "            if not visited[i]:\n",
    "                q.append(i)\n",
    "                visited[i] = True"
   ]
  },
  {
   "cell_type": "markdown",
   "id": "ac12df38-45ec-482c-82e6-081e5e0216a3",
   "metadata": {},
   "source": [
    "---"
   ]
  },
  {
   "cell_type": "code",
   "execution_count": 1,
   "id": "ac9615df-c9ec-4a5e-a4dd-2ef2b871d791",
   "metadata": {},
   "outputs": [
    {
     "name": "stdout",
     "output_type": "stream",
     "text": [
      "3\n",
      "3\n"
     ]
    }
   ],
   "source": [
    "# 음료수 얼려 먹기 (출처 - 이코테 / 나동빈 저)\n",
    "\n",
    "from collections import deque\n",
    "def ice_counter(graph):\n",
    "    n, m = len(graph), len(graph[0])\n",
    "    \n",
    "    def dfs(x, y):\n",
    "        if x >= n or x < 0 or y >= m or y < 0:\n",
    "            return False\n",
    "        if graph[x][y] == 0:\n",
    "            graph[x][y] = 1\n",
    "            dfs(x-1, y)\n",
    "            dfs(x+1, y)\n",
    "            dfs(x, y-1)\n",
    "            dfs(x, y+1)\n",
    "            return True\n",
    "        return False\n",
    "    \n",
    "    ice_cnt = 0\n",
    "    for row in range(n):\n",
    "        for col in range(m):\n",
    "            if dfs(row, col) is True:\n",
    "                ice_cnt += 1\n",
    "    return ice_cnt\n",
    "        \n",
    "print(ice_counter([[0,0,1,1,0], [0,0,0,1,1],[1,1,1,1,1],[0,0,0,0,0]]))\n",
    "print(ice_counter([[0,0,1],[0,1,0],[1,0,1]]))"
   ]
  },
  {
   "cell_type": "code",
   "execution_count": 10,
   "id": "c59f24e7-8c80-4266-a8e2-10916278f110",
   "metadata": {},
   "outputs": [
    {
     "name": "stdout",
     "output_type": "stream",
     "text": [
      "3\n"
     ]
    }
   ],
   "source": [
    "from collections import deque\n",
    "graph = [[0,0,1,1,0],[0,0,0,1,1],[1,1,1,1,1],[0,0,0,0,0]]\n",
    "n, m = len(graph), len(graph[0])\n",
    "dx = [-1, 1, 0, 0]\n",
    "dy = [0, 0, -1, 1]\n",
    "ice_cnt = 0\n",
    "\n",
    "def bfs(x, y):\n",
    "    q = deque([(x,y)])\n",
    "    if graph[x][y] == 1:\n",
    "        return False\n",
    "    while q:\n",
    "        qx, qy = q.popleft()\n",
    "        graph[qx][qy] = 1\n",
    "        for i in range(4):\n",
    "            nx = qx + dx[i]\n",
    "            ny = qy + dy[i]\n",
    "            if 0 <= nx <n and 0 <= ny < m and graph[nx][ny] == 0:\n",
    "                q.append((nx, ny))\n",
    "    return True\n",
    "\n",
    "for row in range(n):\n",
    "    for col in range(m):\n",
    "        if bfs(row, col) is True:\n",
    "            ice_cnt += 1\n",
    "print(ice_cnt)"
   ]
  },
  {
   "cell_type": "markdown",
   "id": "bcb77a81-eb0d-4775-ab1e-8e9e695d87fc",
   "metadata": {},
   "source": [
    "---"
   ]
  },
  {
   "cell_type": "code",
   "execution_count": 25,
   "id": "d1bc86aa-2e23-47e2-80b0-37e96f81225a",
   "metadata": {},
   "outputs": [
    {
     "name": "stdout",
     "output_type": "stream",
     "text": [
      "10\n"
     ]
    }
   ],
   "source": [
    "# 미로탈출 (출처 - 이것이 코딩 테스트다 / 나동빈 저)\n",
    "from collections import deque\n",
    "def solution(n:int, m:int, graph:list) -> int:\n",
    "    dx = [-1,1,0,0]\n",
    "    dy = [0,0,-1,1]\n",
    "    \n",
    "    def bfs(x:int, y:int) -> int:\n",
    "        q = deque([(x,y)])\n",
    "        while q:\n",
    "            qx, qy = q.popleft()\n",
    "            for i in range(4):\n",
    "                nx = qx + dx[i]\n",
    "                ny = qy + dy[i]\n",
    "                if nx >= n or ny >= m or nx < 0 or ny < 0 or graph[nx][ny] == 0:\n",
    "                    continue\n",
    "                if graph[nx][ny] == 1:\n",
    "                    graph[nx][ny] = graph[qx][qy] + 1\n",
    "                    q.append((nx,ny))\n",
    "        return graph[n-1][m-1]\n",
    "    \n",
    "    return bfs(0,0)\n",
    "    \n",
    "print(solution(5,6,[[1,0,1,0,1,0],[1,1,1,1,1,1],[0,0,0,0,0,1],[1,1,1,1,1,1],[1,1,1,1,1,1,1]]))"
   ]
  },
  {
   "cell_type": "markdown",
   "id": "3870309b-23b6-4059-af47-1609b32c6d32",
   "metadata": {},
   "source": [
    "---"
   ]
  },
  {
   "cell_type": "code",
   "execution_count": 24,
   "id": "ba333220-836d-4232-a107-468e66308a20",
   "metadata": {},
   "outputs": [
    {
     "name": "stdout",
     "output_type": "stream",
     "text": [
      "[4]\n"
     ]
    }
   ],
   "source": [
    "# 특정 거리의 도시 찾기 (출처 - 이것이 코딩 테스트다 / 나동빈 저)\n",
    "\n",
    "from collections import deque\n",
    "def solution(n:int, m:int, k:int, x:int, nodes:list)->int:\n",
    "    # 그래프 만들기\n",
    "    graph = [[] for _ in range(n+1)]\n",
    "    for node in nodes:\n",
    "        graph[node[0]].append(node[1])\n",
    "    \n",
    "    distance = [-1] * (n+1)\n",
    "    distance[x] = 0\n",
    "    \n",
    "    q = deque([x])\n",
    "    while q:\n",
    "        now = q.popleft()\n",
    "        for i in graph[now]:\n",
    "            if distance[i] == -1:\n",
    "                distance[i] = distance[now] + 1\n",
    "                q.append(i)\n",
    "    \n",
    "    answer = []\n",
    "    for i, dis in enumerate(distance):\n",
    "        if dis == k:\n",
    "            answer.append(i)\n",
    "    return -1 if not len(answer) else answer\n",
    "\n",
    "print(solution(4,4,2,1,[[1,2], [1,3], [2,3], [2,4]]))"
   ]
  },
  {
   "cell_type": "markdown",
   "id": "4e66b0bf-ec5a-4241-89da-8871c618c541",
   "metadata": {},
   "source": [
    "---"
   ]
  },
  {
   "cell_type": "code",
   "execution_count": 12,
   "id": "36485fae-ae91-41bc-b57c-4ac4476104d6",
   "metadata": {},
   "outputs": [
    {
     "name": "stdout",
     "output_type": "stream",
     "text": [
      "5\n"
     ]
    }
   ],
   "source": [
    "# programmers - 타겟넘버\n",
    "\n",
    "def solution(numbers:list, target:int)->int:\n",
    "    n = len(numbers)\n",
    "    answer = []\n",
    "    def dfs(a:int, idx:int):\n",
    "        if idx == n:\n",
    "            if a == target:\n",
    "                answer.append(a)\n",
    "            return \n",
    "        else:\n",
    "            dfs(a + numbers[idx], idx+1)\n",
    "            dfs(a - numbers[idx], idx+1)\n",
    "    dfs(0, 0)\n",
    "    return len(answer)\n",
    "\n",
    "\n",
    "print(solution([1,1,1,1,1], 3))"
   ]
  },
  {
   "cell_type": "markdown",
   "id": "4b43a1e9-82d3-47d7-a594-65729453e46d",
   "metadata": {},
   "source": [
    "---"
   ]
  },
  {
   "cell_type": "code",
   "execution_count": 3,
   "id": "5314582d-4a59-4569-85bf-142a87e5e353",
   "metadata": {},
   "outputs": [
    {
     "name": "stdout",
     "output_type": "stream",
     "text": [
      "[[9, 0, 1, 1, 1], [1, 0, 1, 0, 1], [1, 0, 1, 1, 1], [1, 1, 1, 0, 1], [0, 0, 0, 0, 1]]\n",
      "[[9, 0, 1, 1, 1], [9, 0, 1, 0, 1], [1, 0, 1, 1, 1], [1, 1, 1, 0, 1], [0, 0, 0, 0, 1]]\n",
      "[[9, 0, 1, 1, 1], [9, 0, 1, 0, 1], [9, 0, 1, 1, 1], [1, 1, 1, 0, 1], [0, 0, 0, 0, 1]]\n",
      "[[9, 0, 1, 1, 1], [9, 0, 1, 0, 1], [9, 0, 1, 1, 1], [9, 1, 1, 0, 1], [0, 0, 0, 0, 1]]\n",
      "[[9, 0, 1, 1, 1], [9, 0, 1, 0, 1], [9, 0, 1, 1, 1], [9, 9, 1, 0, 1], [0, 0, 0, 0, 1]]\n",
      "[[9, 0, 1, 1, 1], [9, 0, 1, 0, 1], [9, 0, 1, 1, 1], [9, 9, 9, 0, 1], [0, 0, 0, 0, 1]]\n",
      "[[9, 0, 1, 1, 1], [9, 0, 1, 0, 1], [9, 0, 9, 1, 1], [9, 9, 9, 0, 1], [0, 0, 0, 0, 1]]\n",
      "[[9, 0, 1, 1, 1], [9, 0, 9, 0, 1], [9, 0, 9, 1, 1], [9, 9, 9, 0, 1], [0, 0, 0, 0, 1]]\n",
      "[[9, 0, 9, 1, 1], [9, 0, 9, 0, 1], [9, 0, 9, 1, 1], [9, 9, 9, 0, 1], [0, 0, 0, 0, 1]]\n",
      "[[9, 0, 9, 9, 1], [9, 0, 9, 0, 1], [9, 0, 9, 1, 1], [9, 9, 9, 0, 1], [0, 0, 0, 0, 1]]\n",
      "[[9, 0, 9, 9, 9], [9, 0, 9, 0, 1], [9, 0, 9, 1, 1], [9, 9, 9, 0, 1], [0, 0, 0, 0, 1]]\n",
      "[[9, 0, 9, 9, 9], [9, 0, 9, 0, 9], [9, 0, 9, 1, 1], [9, 9, 9, 0, 1], [0, 0, 0, 0, 1]]\n",
      "[[9, 0, 9, 9, 9], [9, 0, 9, 0, 9], [9, 0, 9, 1, 9], [9, 9, 9, 0, 1], [0, 0, 0, 0, 1]]\n",
      "[[9, 0, 9, 9, 9], [9, 0, 9, 0, 9], [9, 0, 9, 1, 9], [9, 9, 9, 0, 9], [0, 0, 0, 0, 1]]\n",
      "14\n",
      "[[9, 0, 9, 9, 9], [9, 0, 9, 0, 9], [9, 0, 9, 9, 9], [9, 9, 9, 0, 9], [0, 0, 0, 0, 1]]\n",
      "[14]\n"
     ]
    }
   ],
   "source": [
    "# programmers - 게임 맵 최단거리\n",
    "\n",
    "def solution(maps):\n",
    "    dx = [-1,1,0,0]\n",
    "    dy = [0,0,-1,1]\n",
    "    n, m = len(maps), len(maps[0])\n",
    "    answer = []\n",
    "    mapss = maps.copy()\n",
    "    \n",
    "    def dfs(x:int, y:int, cnt:int)->int:\n",
    "        if x==(n-1) and y==(m-1):\n",
    "            # if answer > cnt:\n",
    "            print(cnt)\n",
    "            answer.append(cnt)\n",
    "            # mapss = maps\n",
    "            return\n",
    "        else:\n",
    "            mapss[x][y] = 9\n",
    "            print(mapss)\n",
    "            for i in range(4):\n",
    "                nx = x + dx[i]\n",
    "                ny = y + dy[i]\n",
    "                if n <= nx or m <= ny or nx < 0 or ny < 0:\n",
    "                    continue\n",
    "                if mapss[nx][ny] == 1:\n",
    "                    dfs(nx, ny, cnt+1)\n",
    "    dfs(0,0,0)\n",
    "    return answer\n",
    "\n",
    "print(solution([[1,0,1,1,1],[1,0,1,0,1],[1,0,1,1,1],[1,1,1,0,1],[0,0,0,0,1]]))"
   ]
  },
  {
   "cell_type": "code",
   "execution_count": 1,
   "id": "bf68c669-1991-40b9-aa69-b6a8adaeed13",
   "metadata": {},
   "outputs": [],
   "source": [
    "from collections import deque\n",
    "def solution(maps):\n",
    "    dx = [-1,1,0,0]\n",
    "    dy = [0,0,-1,1]\n",
    "    n, m = len(maps), len(maps[0])\n",
    "    def bfs(x,y,cnt):\n",
    "        q = deque([(x,y)])\n",
    "        while q:\n",
    "            x, y = q.popleft()\n",
    "            for i in range(4):\n",
    "                nx = x + dx[i]\n",
    "                ny = y + dy[i]\n",
    "                if nx < 0 or nx >= n or ny < 0 or ny >= m:\n",
    "                    continue\n",
    "                if maps[nx][ny] == 0:\n",
    "                    continue\n",
    "                if maps[nx][ny] == 1:\n",
    "                    maps[nx][ny] = maps[x][y] + 1\n",
    "                    q.append((nx,ny))\n",
    "        return maps[n-1][m-1]\n",
    "    return -1 if bfs(0,0,0) == 1 else bfs(0,0,0)"
   ]
  },
  {
   "cell_type": "markdown",
   "id": "f2e41dee-8963-429f-aa73-71407e38732e",
   "metadata": {},
   "source": [
    "---"
   ]
  },
  {
   "cell_type": "code",
   "execution_count": null,
   "id": "3ba6dd11-17cf-4f87-8098-fe274026b5c8",
   "metadata": {},
   "outputs": [
    {
     "name": "stdout",
     "output_type": "stream",
     "text": [
      " 8 8\n",
      " 2 0 0 0 0 0 0 2\n",
      " 2 0 0 0 0 0 0 2\n",
      " 2 0 0 0 0 0 0 2\n",
      " 2 0 0 0 0 0 0 2\n",
      " 2 0 0 0 0 0 0 2\n",
      " 0 0 0 0 0 0 0 0\n",
      " 0 0 0 0 0 0 0 0\n",
      " 0 0 0 0 0 0 0 0\n"
     ]
    },
    {
     "name": "stdout",
     "output_type": "stream",
     "text": [
      "0\n"
     ]
    }
   ],
   "source": [
    "# 연구소 - 백준 14502\n",
    "n, m = map(int, input().split())\n",
    "maps = []\n",
    "for i in range(n):\n",
    "    maps.append(list(map(int, input().split())))\n",
    "\n",
    "temp = [[0] * m for _ in range(n)]\n",
    "answer = 0\n",
    "dx = [-1,1,0,0]\n",
    "dy = [0,0,-1,1]\n",
    "\n",
    "def makewall(cnt):\n",
    "    if cnt == 3:\n",
    "        global temp\n",
    "        for i in range(n):\n",
    "            for j in range(m):\n",
    "                temp[i][j] = maps[i][j]\n",
    "        count = 0\n",
    "        for a in range(n):\n",
    "            for b in range(m):\n",
    "                if temp[a][b] == 2:\n",
    "                    virus_dfs(a,b)\n",
    "        for pp in temp:\n",
    "            count += pp.count(0)\n",
    "        global answer\n",
    "        return max(answer, count)\n",
    "    for i in range(n):\n",
    "        for j in range(m):\n",
    "            if maps[i][j] == 0:\n",
    "                maps[i][j] = 1\n",
    "                makewall(cnt+1)\n",
    "                maps[i][j] = 0\n",
    "\n",
    "\n",
    "# 바이러스 퍼트리기\n",
    "def virus_dfs(x,y):\n",
    "    for i in range(4):\n",
    "        nx = x + dx[i]\n",
    "        ny = y + dy[i]\n",
    "        if nx >= 0 and nx < n and ny >= 0 and ny < m:\n",
    "            if temp[nx][ny] == 0:\n",
    "                temp[nx][ny] = 2\n",
    "                virus_dfs(nx, ny)\n",
    "\n",
    "makewall(0)\n",
    "print(answer)"
   ]
  },
  {
   "cell_type": "markdown",
   "id": "dd05960d-cac2-422f-97e2-e75f0e6e7931",
   "metadata": {},
   "source": [
    "---"
   ]
  },
  {
   "cell_type": "code",
   "execution_count": null,
   "id": "5b3a7b62-567a-4d77-981a-a643bdf8ec27",
   "metadata": {},
   "outputs": [],
   "source": [
    "# 경쟁적 전염 - 백준 18405\n",
    "\n",
    "from collections import deque\n",
    "from collections import defaultdict\n",
    "\n",
    "virus_dict = defaultdict(deque)\n",
    "# visited = [[True] * n for _ in range(n)]\n",
    "dx = [-1,1,0,0]\n",
    "dy = [0,0,-1,1]\n",
    "\n",
    "# 입력\n",
    "n, k = map(int, input().split())\n",
    "testbed = []\n",
    "for i in range(n):\n",
    "    testbed.append(list(map(int, input().split())))\n",
    "s, x, y = map(int, input().split())\n",
    "\n",
    "# 초기 바이러스 위치 파악\n",
    "for i in range(n):\n",
    "    for j in range(n):\n",
    "        if testbed[i][j] != 0:\n",
    "            virus_dict[testbed[i][j]].append((i, j))\n",
    "            \n",
    "# 매 초 바이러스 증식\n",
    "for _ in range(s):\n",
    "    for virus in sorted(list(virus_dict.keys())):\n",
    "        new_virus_area = []\n",
    "        while virus_dict[virus]:\n",
    "            a, b = virus_dict[virus].popleft()\n",
    "            for i in range(4):\n",
    "                na = a + dx[i]\n",
    "                nb = b + dy[i]\n",
    "                if 0<=na<n and 0<=nb<n and testbed[na][nb] == 0:\n",
    "                    testbed[na][nb] = virus\n",
    "                    new_virus_area.append((na, nb))\n",
    "        for area in new_virus_area:\n",
    "            virus_dict[virus].append(area)\n",
    "                    \n",
    "print(testbed[x-1][y-1])"
   ]
  },
  {
   "cell_type": "markdown",
   "id": "852bb55e-42d3-48fc-a2d8-29731177d83b",
   "metadata": {},
   "source": [
    "---"
   ]
  },
  {
   "cell_type": "code",
   "execution_count": 4,
   "id": "53e851a6-1127-42f3-b50b-516fcf304510",
   "metadata": {},
   "outputs": [
    {
     "name": "stdout",
     "output_type": "stream",
     "text": [
      "() ))((()\n",
      "))(( ()\n",
      "() \n",
      "()(())()\n"
     ]
    }
   ],
   "source": [
    "def bracket(u):\n",
    "    stack = []\n",
    "    for p in u:\n",
    "        if p == '(':\n",
    "            stack.append(p)\n",
    "        else:\n",
    "            if not stack:\n",
    "                return False\n",
    "            stack.pop()\n",
    "    return True\n",
    "    \n",
    "    \n",
    "def divide_uv(p):\n",
    "    for i in range(len(p)):\n",
    "        if p[:i+1].count('(') == p[:i+1].count(')'):\n",
    "            u, v = p[:i+1], p[i+1:]\n",
    "            print(u,v)\n",
    "            return u, v\n",
    "    \n",
    "    \n",
    "def solution(p):\n",
    "    if len(p) == 0:\n",
    "        return ''\n",
    "    u, v = divide_uv(p)\n",
    "    # print(divide_uv(p)[1])\n",
    "    if bracket(u) is True:\n",
    "        return u + solution(v)\n",
    "    else:\n",
    "        answer = '(' + solution(v) + ')'\n",
    "        answer += u[1:len(u)-1][::-1]\n",
    "        return answer\n",
    "    \n",
    "print(solution(\"()))((()\"))"
   ]
  },
  {
   "cell_type": "code",
   "execution_count": 8,
   "id": "1a86dce9-1939-4b94-ac69-1e1ea41e40cc",
   "metadata": {},
   "outputs": [],
   "source": [
    "def isBalancedString(str:str)->bool:\n",
    "    return str.count('(') == str.count(')')\n",
    "    \n",
    "def isCorrectString(str:str)->bool:\n",
    "    count = 0\n",
    "    for s in str:\n",
    "        if s == '(':\n",
    "            count += 1\n",
    "        else:\n",
    "            count -= 1\n",
    "        if count < 0:\n",
    "            return False\n",
    "    return count == 0\n",
    "\n",
    "def process(str:str)->str:\n",
    "    if str == '':\n",
    "        return ''\n",
    "    u, v = splitUV(str)\n",
    "    if isCorrectString(u):\n",
    "        return u + process(v)\n",
    "    else:\n",
    "        answer = '(' + process(v) + ')'\n",
    "        for char in u[1:-1]:\n",
    "            answer += '(' if char == ')' else ')'\n",
    "        return answer\n",
    "    \n",
    "def spliUV(str:str)->str:\n",
    "    u, v = str, ''\n",
    "    for i in range(2, len(str), 2):\n",
    "        if isBalancedString(str[:i]):\n",
    "            u, v = str[:i], str[i:]\n",
    "            break\n",
    "    return u, v\n",
    "\n",
    "def solution(p):\n",
    "    if isCorrectString(p):\n",
    "        return p\n",
    "    return process(p)"
   ]
  },
  {
   "cell_type": "markdown",
   "id": "97b47ae4-68ff-49e1-af47-83b9fc397c42",
   "metadata": {},
   "source": [
    "---"
   ]
  },
  {
   "cell_type": "code",
   "execution_count": 2,
   "id": "11310e85-b475-4eb0-bdc1-dc7c7bf2a2f5",
   "metadata": {},
   "outputs": [
    {
     "name": "stdout",
     "output_type": "stream",
     "text": [
      " 6\n",
      " 1 2 3 4 5 6\n",
      " 2 1 1 1\n"
     ]
    },
    {
     "name": "stdout",
     "output_type": "stream",
     "text": [
      "54\n",
      "-24\n"
     ]
    }
   ],
   "source": [
    "N = int(input())\n",
    "num = list(map(int, input().split()))\n",
    "op = list(map(int, input().split()))\n",
    "\n",
    "maximum = -1e9\n",
    "minimum = 1e9\n",
    "\n",
    "\n",
    "def dfs(depth, total, plus, minus, multiply, divide):\n",
    "    global maximum, minimum\n",
    "    if depth == N:\n",
    "        maximum = max(total, maximum)\n",
    "        minimum = min(total, minimum)\n",
    "        return\n",
    "\n",
    "    if plus:\n",
    "        dfs(depth + 1, total + num[depth], plus - 1, minus, multiply, divide)\n",
    "    if minus:\n",
    "        dfs(depth + 1, total - num[depth], plus, minus - 1, multiply, divide)\n",
    "    if multiply:\n",
    "        dfs(depth + 1, total * num[depth], plus, minus, multiply - 1, divide)\n",
    "    if divide:\n",
    "        dfs(depth + 1, int(total / num[depth]), plus, minus, multiply, divide - 1)\n",
    "\n",
    "\n",
    "dfs(1, num[0], op[0], op[1], op[2], op[3])\n",
    "print(maximum)\n",
    "print(minimum)"
   ]
  },
  {
   "cell_type": "markdown",
   "id": "82766e5c-d6f3-49a4-84d8-d167f3855301",
   "metadata": {},
   "source": [
    "---"
   ]
  },
  {
   "cell_type": "code",
   "execution_count": 37,
   "id": "aff622ec-bcfc-4a8e-80ab-0228ed0b8851",
   "metadata": {},
   "outputs": [
    {
     "name": "stdout",
     "output_type": "stream",
     "text": [
      "['1', '2', '4', '4', '4'] ['4', '4', '5', '6', '7', '8', '8']\n",
      "['4', '4'] ['1', '2', '4', '4', '4', '5', '6', '7', '8', '8']\n",
      "13107\n"
     ]
    }
   ],
   "source": [
    "# 문자열 집합 만들기\n",
    "def make_set(string: str)->list:\n",
    "    result = []\n",
    "    for i in range(len(string)-1):\n",
    "        if (string[i] + string[i+1]).isalpha():\n",
    "            result.append((string[i] + string[i+1]).lower())\n",
    "    return result\n",
    "\n",
    "def solution(str1, str2):\n",
    "    # A, B = make_set(str1), make_set(str2)\n",
    "    A_common_B, A_sum_B = [], []\n",
    "\n",
    "    A, B = ['1','2','4','4','4'], ['4','4','5','6','7','8','8']\n",
    "    # 교집합 만들기\n",
    "    double_check_list = []\n",
    "    for a in A:\n",
    "        if a not in double_check_list and a in B:\n",
    "            A_common_B += [a for i in range(min(A.count(a), B.count(a)))]\n",
    "            double_check_list.append(a)\n",
    "            \n",
    "    # 합집합 만들기\n",
    "    double_check_list = []\n",
    "    for a in A:\n",
    "        if a in double_check_list:\n",
    "            continue\n",
    "        if a in B:\n",
    "            A_sum_B += [a for _ in range(max(A.count(a), B.count(a)))]\n",
    "            double_check_list.append(a)\n",
    "        else:\n",
    "            A_sum_B.append(a)\n",
    "    print(A, B)\n",
    "    for b in B:\n",
    "        if b not in double_check_list and b not in A:\n",
    "            A_sum_B.append(b)\n",
    "            # double_check_list.append(b)\n",
    "    \n",
    "    print(A_common_B, A_sum_B)\n",
    "    if len(A_sum_B) == 0:\n",
    "        return 65536\n",
    "    \n",
    "    \n",
    "    return int(len(A_common_B) / len(A_sum_B) * 65536)\n",
    "\n",
    "# print(solution('FRANCE','french') == 16384)\n",
    "# print(solution('handshake','shake hands') == 65536)\n",
    "print(solution('1 2 4 4 4', '4 4 5 6 7 8 8'))\n",
    "# print(solution('E=M*C^2', 'e=m*c^2') == 65536)"
   ]
  },
  {
   "cell_type": "code",
   "execution_count": 48,
   "id": "2ed47971-df54-4236-b056-b5ef4e2155f7",
   "metadata": {},
   "outputs": [
    {
     "name": "stdout",
     "output_type": "stream",
     "text": [
      "True\n",
      "True\n"
     ]
    }
   ],
   "source": [
    "from collections import Counter\n",
    "\n",
    "# 문자열 집합 만들기\n",
    "def make_set_list(string: str)->list:\n",
    "    result = []\n",
    "    for i in range(len(string)-1):\n",
    "        if (string[i] + string[i+1]).isalpha():\n",
    "            result.append((string[i] + string[i+1]).lower())\n",
    "    return result\n",
    "\n",
    "def solution(str1, str2):\n",
    "    str1_low = str1.lower()\n",
    "    str2_low = str2.lower()\n",
    "    \n",
    "    str1_lst, str2_lst = make_set_list(str1), make_set_list(str2)\n",
    "\n",
    "    Counter1 = Counter(str1_lst)\n",
    "    Counter2 = Counter(str2_lst)\n",
    "    \n",
    "    inter = list((Counter1 & Counter2).elements())\n",
    "    union = list((Counter1 | Counter2).elements())\n",
    "    \n",
    "    if len(union) == 0 and len(inter) == 0:\n",
    "        return 65536\n",
    "    else:\n",
    "        return int(len(inter) / len(union) * 65536)\n",
    "    \n",
    "print(solution('FRANCE','french') == 16384)\n",
    "print(solution('handshake','shake hands') == 65536)"
   ]
  },
  {
   "attachments": {},
   "cell_type": "markdown",
   "id": "8557e6d0",
   "metadata": {},
   "source": [
    "## 이코테 유형별 기출문제"
   ]
  },
  {
   "cell_type": "code",
   "execution_count": 1,
   "id": "07d69e4d",
   "metadata": {},
   "outputs": [
    {
     "name": "stdout",
     "output_type": "stream",
     "text": [
      "4\n"
     ]
    }
   ],
   "source": [
    "# Q.15 - 특정 거리의 도시 찾기\n",
    "\n",
    "import heapq\n",
    "import sys\n",
    "# input = sys.stdin.readline\n",
    "INF = int(1e9)\n",
    "\n",
    "n, m, k, x = map(int, input().split())\n",
    "graph = [[] for i in range(n+1)]\n",
    "visited = [False] * (n+1)\n",
    "distance = [INF] * (n+1)\n",
    "result = []\n",
    "\n",
    "for _ in range(m):\n",
    "    a, b = map(int, input().split())\n",
    "    graph[a].append((b, 1))\n",
    "\n",
    "q = []\n",
    "heapq.heappush(q, (0, x))\n",
    "distance[x] = 0\n",
    "while q:\n",
    "    dist, now = heapq.heappop(q)\n",
    "    if distance[now] < dist:\n",
    "        continue\n",
    "    if dist == k:\n",
    "        result.append(now)\n",
    "    for i in graph[now]:\n",
    "        cost = dist + i[1]\n",
    "        if cost < distance[i[0]]:\n",
    "            distance[i[0]] = cost\n",
    "            heapq.heappush(q, (cost, i[0]))\n",
    "\n",
    "\n",
    "if result:\n",
    "    print('\\n'.join(map(str, result)))\n",
    "else:\n",
    "    print(-1)"
   ]
  },
  {
   "cell_type": "code",
   "execution_count": 28,
   "id": "c6e2431a",
   "metadata": {},
   "outputs": [
    {
     "name": "stdout",
     "output_type": "stream",
     "text": [
      "4\n",
      "5\n",
      "6\n",
      "7\n"
     ]
    }
   ],
   "source": [
    "# Q.15 - 특정 거리의 도시 찾기\n",
    "\n",
    "from collections import deque\n",
    "import sys\n",
    "input = sys.stdin.readline\n",
    "\n",
    "n, m, k, x = map(int, input().split())\n",
    "graph = [[] for _ in range(n+1)]\n",
    "visited = [False] * (n+1)\n",
    "result = []\n",
    "dist = 1\n",
    "\n",
    "for _ in range(m):\n",
    "    a, b = map(int, input().split())\n",
    "    graph[a].append(b)\n",
    "\n",
    "q = deque([x])\n",
    "tmp_cnt = len(q)\n",
    "while q:\n",
    "    if tmp_cnt == 0:\n",
    "        tmp_cnt = len(q)\n",
    "        dist += 1\n",
    "    now = q.popleft()\n",
    "    visited[now] = True\n",
    "    tmp_cnt -= 1\n",
    "    for i in graph[now]:\n",
    "        if visited[i] is False:\n",
    "            visited[i] = True\n",
    "            q.append(i)\n",
    "            if dist == k: \n",
    "                result.append(i)\n",
    "    if dist > k:\n",
    "        break\n",
    "\n",
    "if result:\n",
    "    result.sort()\n",
    "    for r in result:\n",
    "        print(r)\n",
    "else:\n",
    "    print(-1)"
   ]
  },
  {
   "cell_type": "code",
   "execution_count": 2,
   "id": "b55b83d6",
   "metadata": {},
   "outputs": [
    {
     "name": "stdout",
     "output_type": "stream",
     "text": [
      "32\n"
     ]
    }
   ],
   "source": [
    "# 연구소\n",
    "import copy\n",
    "\n",
    "\n",
    "# 바이러스 퍼뜨리기\n",
    "def virus(graph):\n",
    "    dx = [-1,1,0,0]\n",
    "    dy = [0,0,-1,1]\n",
    "    stack = []\n",
    "    for i in range(len(graph)):\n",
    "        for j in range(len(graph[0])):\n",
    "            if graph[i][j] == 2:\n",
    "                stack.append((i, j))\n",
    "    while stack:\n",
    "        x, y = stack.pop()\n",
    "        if graph[x][y] == 2:\n",
    "            for i in range(4):\n",
    "                nx = x + dx[i]\n",
    "                ny = y + dy[i]\n",
    "                if 0<=nx<n and 0<=ny<m and graph[nx][ny] == 0:\n",
    "                    graph[nx][ny] == 2\n",
    "                    stack.append((nx, ny))\n",
    "    return graph\n",
    "\n",
    "\n",
    "# 안전지역 확인\n",
    "def safyzone(graph):\n",
    "    cnt = 0\n",
    "    for i in range(len(graph)):\n",
    "        for j in range(len(graph[0])):\n",
    "            if graph[i][j] == 0:\n",
    "                cnt += 1\n",
    "    return cnt\n",
    "\n",
    "\n",
    "n, m = map(int, input().split())\n",
    "graph = []\n",
    "for i in range(n):\n",
    "    graph.append(list(map(int, input().split())))\n",
    "\n",
    "result = []\n",
    "for x1 in range(n):\n",
    "    for y1 in range(m):\n",
    "        if graph[x1][y1] == 0:\n",
    "            tmp = copy.deepcopy(graph)\n",
    "            tmp[x1][y1] = 1\n",
    "            for x2 in range(x1+1,n):\n",
    "                for y2 in range(y1+1,m):\n",
    "                    if tmp[x2][y2] == 0:\n",
    "                        tmp[x2][y2] = 1\n",
    "                        for x3 in range(x2+1,n):\n",
    "                            for y3 in range(y2+1,m):\n",
    "                                if tmp[x3][y3] == 0:\n",
    "                                    tmp[x3][y3] = 1\n",
    "                                    tmp = virus(tmp)\n",
    "                                    safyzone_cnt = safyzone(tmp)\n",
    "                                    result.append(safyzone_cnt)\n",
    "\n",
    "print(max(result))"
   ]
  },
  {
   "cell_type": "code",
   "execution_count": null,
   "id": "3a508867",
   "metadata": {},
   "outputs": [],
   "source": [
    "# Q17. 경쟁적 전염\n",
    "\n",
    "import heapq\n",
    "\n",
    "dx = [-1, 1, 0, 0]\n",
    "dy = [0, 0, -1, 1]\n",
    "\n",
    "n, k = map(int, input().split())\n",
    "graph = []\n",
    "for _ in range(n):\n",
    "    graph.append(list(map(int, input().split())))\n",
    "s, x, y = map(int, input().split())\n",
    "\n",
    "# 초기 바이러스 확인\n",
    "q = []\n",
    "for i in range(n):\n",
    "    for j in range(n):\n",
    "        if graph[i][j] != 0:\n",
    "            heapq.heappush(q, (graph[i][j], i, j))\n",
    "\n",
    "# 바이러스 감염\n",
    "def virus_spread(graph, q):\n",
    "    next_q = []\n",
    "    while q:\n",
    "        virus, x, y = heapq.heappop(q)\n",
    "        for i in range(4):\n",
    "            nx = x + dx[i]\n",
    "            ny = y + dy[i]\n",
    "            if 0<=nx<len(graph) and 0<=ny<len(graph[0]) and graph[nx][ny] == 0:\n",
    "                graph[nx][ny] = virus\n",
    "                heapq.heappush(next_q, (virus, nx, ny))\n",
    "    return graph, next_q\n",
    "\n",
    "# s초 후 상태\n",
    "for t in range(s):\n",
    "    graph, q = virus_spread(graph, q)\n",
    "    \n",
    "print(graph[x-1][y-1])"
   ]
  }
 ],
 "metadata": {
  "kernelspec": {
   "display_name": "base",
   "language": "python",
   "name": "python3"
  },
  "language_info": {
   "codemirror_mode": {
    "name": "ipython",
    "version": 3
   },
   "file_extension": ".py",
   "mimetype": "text/x-python",
   "name": "python",
   "nbconvert_exporter": "python",
   "pygments_lexer": "ipython3",
   "version": "3.9.12 (main, Apr  4 2022, 05:22:27) [MSC v.1916 64 bit (AMD64)]"
  },
  "vscode": {
   "interpreter": {
    "hash": "df374f9080d02b295c5c67d9e2d72f8c33ee93bb960a0c1df2964c3ff6e7e57f"
   }
  }
 },
 "nbformat": 4,
 "nbformat_minor": 5
}
