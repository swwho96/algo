{
 "cells": [
  {
   "cell_type": "markdown",
   "id": "b136ea9a-3fff-4d11-b18f-96958cbb9cca",
   "metadata": {},
   "source": [
    "# Divided and Conquer"
   ]
  },
  {
   "cell_type": "markdown",
   "id": "f346f61a-5eb5-4dab-ba53-488ca7f6a8b5",
   "metadata": {},
   "source": [
    "## [169. Majority Element](https://leetcode.com/problems/majority-element)"
   ]
  },
  {
   "cell_type": "code",
   "execution_count": 3,
   "id": "20500420-7186-44ff-a004-f6697d0785a6",
   "metadata": {},
   "outputs": [],
   "source": [
    "from collections import Counter\n",
    "List = list\n",
    "class Solution:\n",
    "    def majorityElement(self, nums: List[int]) -> int:\n",
    "        each_num_count = Counter(nums)\n",
    "        major_time = len(nums) // 2 + 1\n",
    "        for key, value in each_num_count.items():\n",
    "            if value >= major_time:\n",
    "                return key"
   ]
  },
  {
   "cell_type": "markdown",
   "id": "1efa2684-e34d-4539-a706-b97977cf9e28",
   "metadata": {},
   "source": [
    "## [241. Different Ways to Add Parentheses](https://leetcode.com/problems/different-ways-to-add-parentheses)"
   ]
  }
 ],
 "metadata": {
  "kernelspec": {
   "display_name": "Python 3 (ipykernel)",
   "language": "python",
   "name": "python3"
  },
  "language_info": {
   "codemirror_mode": {
    "name": "ipython",
    "version": 3
   },
   "file_extension": ".py",
   "mimetype": "text/x-python",
   "name": "python",
   "nbconvert_exporter": "python",
   "pygments_lexer": "ipython3",
   "version": "3.9.12"
  }
 },
 "nbformat": 4,
 "nbformat_minor": 5
}
