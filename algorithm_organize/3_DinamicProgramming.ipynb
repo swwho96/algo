{
 "cells": [
  {
   "cell_type": "markdown",
   "id": "14ff2526-1c64-4a1d-870e-ad0563bc52b3",
   "metadata": {},
   "source": [
    "# Daynamic Programming"
   ]
  },
  {
   "cell_type": "markdown",
   "id": "12546490-6ffc-4494-bfd2-50e10fb85810",
   "metadata": {},
   "source": [
    "- 두번 계산하지 않는다\n",
    "\n",
    "[문제 구성 - '이것이 코딩 테스트다 - 나동빈 저','파이썬 알고리즘 인터뷰 - 박상길 저']"
   ]
  },
  {
   "cell_type": "markdown",
   "id": "12594e9a-6a42-4070-85a0-d9039ebd1085",
   "metadata": {},
   "source": [
    "---"
   ]
  },
  {
   "cell_type": "markdown",
   "id": "f0d07847-0bbf-4686-b618-2faff21dcfdc",
   "metadata": {},
   "source": [
    "## [509. Fibonacci Number](https://leetcode.com/problems/fibonacci-number)"
   ]
  },
  {
   "cell_type": "code",
   "execution_count": 1,
   "id": "364aa7ae-bdad-44e5-97ad-b73185dffe1b",
   "metadata": {},
   "outputs": [],
   "source": [
    "# recursive\n",
    "\n",
    "def fib(self, n: int) -> int:\n",
    "    if n <= 1:\n",
    "        return n\n",
    "\n",
    "    return self.fib(n-1) + self.fib(n-2)"
   ]
  },
  {
   "cell_type": "code",
   "execution_count": 2,
   "id": "113aa333-3d8a-4a6e-892c-b59d5a38c613",
   "metadata": {},
   "outputs": [],
   "source": [
    "# memogation\n",
    "\n",
    "def fib(self, n: int) -> int:\n",
    "    if n<=1:\n",
    "        return n\n",
    "    fibonacci = [0,1]\n",
    "    for i in range(2, n+1):\n",
    "        fibonacci.append(fibonacci[i-1] + fibonacci[i-2])\n",
    "    return fibonacci[n]"
   ]
  },
  {
   "cell_type": "code",
   "execution_count": 3,
   "id": "f877b10e-939e-4ccd-9388-f7ef4ec01919",
   "metadata": {},
   "outputs": [],
   "source": [
    "def fib(self, N:int) -> int:\n",
    "    x, y = 0, 1\n",
    "    for i in range(N):\n",
    "        x, y = y, x+y\n",
    "    return x"
   ]
  },
  {
   "cell_type": "markdown",
   "id": "0daf3810-8962-44ab-8719-f978b0ea5e7f",
   "metadata": {},
   "source": [
    "### 0-1 배낭문제"
   ]
  },
  {
   "cell_type": "code",
   "execution_count": 4,
   "id": "9d154e52-0e4c-4670-adde-f381ec408f40",
   "metadata": {},
   "outputs": [],
   "source": [
    "cargo = [(4, 12), (2,1), (10, 4), (1, 1), (2, 2)]\n",
    "\n",
    "def zero_one_knapsack(cargo):\n",
    "    capacity = 15\n",
    "    pack = []\n",
    "    \n",
    "    for i in range(len(cargo) + 1):\n",
    "        pack.append([])\n",
    "        for c in range(capacity + 1):\n",
    "            if i == 0 or c == 0:\n",
    "                pack[i].append(0)\n",
    "            elif cargo[i-1][1] <= c:\n",
    "                pack[i].append(max(cargo[i-1][0]+pack[i-1][c-cargo[i-1][1]], pack[i-1][c]))\n",
    "            else:\n",
    "                pack[i].append(pack[i-1][c])\n",
    "                \n",
    "    return pack[-1][-1]"
   ]
  },
  {
   "cell_type": "markdown",
   "id": "4c99c4d0-6cb9-437d-a5f4-1796dc022969",
   "metadata": {},
   "source": [
    "## [52. Maximum Subarray](https://leetcode.com/problems/maximum-subarray)"
   ]
  },
  {
   "cell_type": "code",
   "execution_count": 5,
   "id": "af31474c-e31f-4578-8e34-51941737de31",
   "metadata": {},
   "outputs": [
    {
     "name": "stdout",
     "output_type": "stream",
     "text": [
      "[-2, 1, -2, 4, 3, 5, 6, 1, 5]\n"
     ]
    },
    {
     "data": {
      "text/plain": [
       "6"
      ]
     },
     "execution_count": 5,
     "metadata": {},
     "output_type": "execute_result"
    }
   ],
   "source": [
    "def maxSubArray(nums: list[int]) -> int:\n",
    "    if len(nums)==0:\n",
    "        return 0\n",
    "    for i in range(1,len(nums)):\n",
    "        if nums[i-1] > 0:\n",
    "            nums[i] += nums[i-1]\n",
    "    print(nums)\n",
    "    return max(nums)\n",
    "\n",
    "maxSubArray(nums=[-2,1,-3,4,-1,2,1,-5,4])"
   ]
  },
  {
   "cell_type": "code",
   "execution_count": 6,
   "id": "42dcd222-156c-4b11-8dfb-6787b72e5d1b",
   "metadata": {},
   "outputs": [
    {
     "data": {
      "text/plain": [
       "6"
      ]
     },
     "execution_count": 6,
     "metadata": {},
     "output_type": "execute_result"
    }
   ],
   "source": [
    "import sys\n",
    "def maxSubArray(nums: list[int]) -> int:\n",
    "    best_sum = -sys.maxsize\n",
    "    current_sum = 0\n",
    "    for num in nums:\n",
    "        current_sum = max(num, current_sum + num)\n",
    "        best_sum = max(best_sum, current_sum)\n",
    "    return best_sum\n",
    "\n",
    "maxSubArray(nums=[-2,1,-3,4,-1,2,1,-5,4])"
   ]
  },
  {
   "cell_type": "markdown",
   "id": "3b48ce76-6056-476f-8523-397ae4ad8279",
   "metadata": {},
   "source": [
    "## Additional - [1749. Maximum Absolute Sum of Any Subarray](https://leetcode.com/problems/maximum-absolute-sum-of-any-subarray)"
   ]
  },
  {
   "cell_type": "code",
   "execution_count": 7,
   "id": "c6a0b1b0-60d5-49ee-a96c-1674ab00d8b1",
   "metadata": {},
   "outputs": [],
   "source": [
    "'''\n",
    "You are given an integer array nums. The absolute sum of a subarray [numsl, numsl+1, ..., numsr-1, numsr] is abs(numsl + numsl+1 + ... + numsr-1 + numsr).\n",
    "\n",
    "Return the maximum absolute sum of any (possibly empty) subarray of nums.\n",
    "\n",
    "Note that abs(x) is defined as follows:\n",
    "\n",
    "If x is a negative integer, then abs(x) = -x.\n",
    "If x is a non-negative integer, then abs(x) = x.\n",
    "'''\n",
    "\n",
    "def maxAbsoluteSum(self, nums: list[int]) -> int:\n",
    "    current_sum, best_sum = 0, -sys.maxsize\n",
    "    neg_current_sum, neg_best_sum = 0, sys.maxsize\n",
    "    for num in nums:\n",
    "        current_sum = max(num, current_sum+num)\n",
    "        best_sum = max(current_sum, best_sum)\n",
    "\n",
    "    for num in nums:\n",
    "        neg_current_sum = min(num, neg_current_sum+num)\n",
    "        neg_best_sum = min(neg_current_sum, neg_best_sum)\n",
    "\n",
    "    return max(abs(best_sum), abs(neg_best_sum))"
   ]
  },
  {
   "cell_type": "markdown",
   "id": "672032c7-c688-4e4a-8e9d-46045c359a28",
   "metadata": {},
   "source": [
    "## [70. Climbing Stairs](https://leetcode.com/problems/climbing-stairs)"
   ]
  },
  {
   "cell_type": "code",
   "execution_count": 8,
   "id": "ca13ad97-bd67-4e1b-a5c9-165358ce2689",
   "metadata": {},
   "outputs": [],
   "source": [
    "def climbStairs(self, n: int) -> int:\n",
    "    if n <= 2:\n",
    "        return n\n",
    "    method_list = [1,2] + [0 for _ in range(2,n)]\n",
    "    for i in range(2, n):\n",
    "        method_list[i] = method_list[i-1] + method_list[i-2]\n",
    "    return method_list[-1]\n",
    "\n",
    "\n",
    "def climbStairs(self, n: int) -> int:\n",
    "    if n <= 2:\n",
    "        return n\n",
    "    x, y = 1, 2\n",
    "    for i in range(2, n):\n",
    "        x, y = y, x+y\n",
    "    return y"
   ]
  },
  {
   "cell_type": "markdown",
   "id": "9163372f-716f-434d-83f2-c4961764ce15",
   "metadata": {},
   "source": [
    "## [198. House Robber](https://leetcode.com/problems/house-robber)"
   ]
  },
  {
   "cell_type": "code",
   "execution_count": 10,
   "id": "edf785e6-f798-4295-ba87-f7fc0331790c",
   "metadata": {},
   "outputs": [],
   "source": [
    "def rob(self, nums: list[int]) -> int:\n",
    "    if len(nums)==0:\n",
    "        return 0\n",
    "    if len(nums) <= 2:\n",
    "        return max(nums)\n",
    "\n",
    "    nums[1] = max(nums[0], nums[1])\n",
    "    for i in range(2, len(nums)):\n",
    "        nums[i] = max(nums[i-1], nums[i-2]+nums[i])\n",
    "\n",
    "    return max(nums)"
   ]
  },
  {
   "cell_type": "markdown",
   "id": "e9982dd8-384f-4998-a45c-5e9a9801fe39",
   "metadata": {},
   "source": [
    "## 1로 만들기"
   ]
  },
  {
   "cell_type": "code",
   "execution_count": 11,
   "id": "883a67dc-79c1-4129-97f0-924bcead61d5",
   "metadata": {},
   "outputs": [
    {
     "name": "stdout",
     "output_type": "stream",
     "text": [
      "3\n"
     ]
    }
   ],
   "source": [
    "def solution(x):\n",
    "    if x == 1:\n",
    "        return 0\n",
    "    d = [0 for _ in range(30001)]\n",
    "    for i in range(2, x+1):\n",
    "        d[i] = d[i-1] + 1\n",
    "        if i%2 == 0:\n",
    "            d[i] = min(d[i], d[i//2]+1)\n",
    "        if i%3 == 0:\n",
    "            d[i] = min(d[i], d[i//3]+1)\n",
    "        if i%5 == 0:\n",
    "            d[i] = min(d[i], d[i//5]+1)\n",
    "    return d[x]\n",
    "\n",
    "print(solution(26))"
   ]
  },
  {
   "cell_type": "markdown",
   "id": "3cd0a520-f40e-4ccd-850c-8ed6077e5c3d",
   "metadata": {
    "tags": []
   },
   "source": [
    "## 개미전사"
   ]
  },
  {
   "cell_type": "code",
   "execution_count": 12,
   "id": "daa2b6ad-cf5e-42da-b44a-2941ffc70ee9",
   "metadata": {},
   "outputs": [
    {
     "name": "stdout",
     "output_type": "stream",
     "text": [
      "8\n"
     ]
    }
   ],
   "source": [
    "def solution(houses: list)->int:\n",
    "    if len(houses) == 0:\n",
    "        return 0\n",
    "    if len(houses) <= 2:\n",
    "        return max(houses)\n",
    "    \n",
    "    for i in range(2,len(houses)):\n",
    "        houses[i] = max(houses[i]+houses[i-2], houses[i-1])\n",
    "    return houses[-1]\n",
    "\n",
    "print(solution([1,3,1,5]))"
   ]
  },
  {
   "cell_type": "markdown",
   "id": "2fea88e8-b0f9-4cff-952a-0d0860386a86",
   "metadata": {},
   "source": [
    "## 바닥공사"
   ]
  },
  {
   "cell_type": "code",
   "execution_count": 13,
   "id": "0743fb19-38e4-4575-b1c5-a8b717f02aca",
   "metadata": {},
   "outputs": [
    {
     "name": "stdout",
     "output_type": "stream",
     "text": [
      "5\n"
     ]
    }
   ],
   "source": [
    "def solution(x):\n",
    "    if not x:\n",
    "        return 0\n",
    "    tile = [0, 1, 3] + [0 for _ in range(x-2)]\n",
    "    for i in range(3,x+1):\n",
    "        tile[i] = tile[i-1] + tile[i-2]*2 \n",
    "    return tile[x] % 796796\n",
    "\n",
    "print(solution(3))"
   ]
  },
  {
   "cell_type": "markdown",
   "id": "c034f9c1-d82d-46e9-a169-d13a96d6b2cb",
   "metadata": {},
   "source": [
    "## 효율적인 화폐 구성"
   ]
  },
  {
   "cell_type": "code",
   "execution_count": 14,
   "id": "3f8c3efd-e35e-46f1-95fa-12bc6cefd15b",
   "metadata": {},
   "outputs": [
    {
     "name": "stdout",
     "output_type": "stream",
     "text": [
      "[0, 10001, 1, 1, 2, 1, 2, 2, 10001]\n",
      "2\n"
     ]
    }
   ],
   "source": [
    "def solution(moneys:list, total_M:int)->int:\n",
    "    M_list = [10001 for i in range(total_M+2)]\n",
    "    M_list[0] = 0\n",
    "    for m in range(len(moneys)):\n",
    "        for i in range(moneys[m], total_M+1):\n",
    "            if M_list[i-moneys[m]] != (10001):\n",
    "                M_list[i] = min(M_list[i], M_list[i-moneys[m]]+1)\n",
    "    print(M_list)\n",
    "    \n",
    "    return M_list[total_M]\n",
    "\n",
    "print(solution([2,3,5], 7))"
   ]
  }
 ],
 "metadata": {
  "kernelspec": {
   "display_name": "Python 3 (ipykernel)",
   "language": "python",
   "name": "python3"
  },
  "language_info": {
   "codemirror_mode": {
    "name": "ipython",
    "version": 3
   },
   "file_extension": ".py",
   "mimetype": "text/x-python",
   "name": "python",
   "nbconvert_exporter": "python",
   "pygments_lexer": "ipython3",
   "version": "3.9.12"
  }
 },
 "nbformat": 4,
 "nbformat_minor": 5
}
