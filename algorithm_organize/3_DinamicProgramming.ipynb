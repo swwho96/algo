{
 "cells": [
  {
   "cell_type": "markdown",
   "id": "14ff2526-1c64-4a1d-870e-ad0563bc52b3",
   "metadata": {},
   "source": [
    "# Daynamic Programming"
   ]
  },
  {
   "cell_type": "markdown",
   "id": "12546490-6ffc-4494-bfd2-50e10fb85810",
   "metadata": {},
   "source": [
    "- 두번 계산하지 않는다"
   ]
  },
  {
   "cell_type": "markdown",
   "id": "f0d07847-0bbf-4686-b618-2faff21dcfdc",
   "metadata": {},
   "source": [
    "## [509. Fibonacci Number](https://leetcode.com/problems/fibonacci-number)"
   ]
  },
  {
   "cell_type": "code",
   "execution_count": 5,
   "id": "364aa7ae-bdad-44e5-97ad-b73185dffe1b",
   "metadata": {},
   "outputs": [],
   "source": [
    "# recursive\n",
    "\n",
    "def fib(self, n: int) -> int:\n",
    "    if n <= 1:\n",
    "        return n\n",
    "\n",
    "    return self.fib(n-1) + self.fib(n-2)"
   ]
  },
  {
   "cell_type": "code",
   "execution_count": 6,
   "id": "113aa333-3d8a-4a6e-892c-b59d5a38c613",
   "metadata": {},
   "outputs": [],
   "source": [
    "# memogation\n",
    "\n",
    "def fib(self, n: int) -> int:\n",
    "    if n<=1:\n",
    "        return n\n",
    "    fibonacci = [0,1]\n",
    "    for i in range(2, n+1):\n",
    "        fibonacci.append(fibonacci[i-1] + fibonacci[i-2])\n",
    "    return fibonacci[n]"
   ]
  },
  {
   "cell_type": "code",
   "execution_count": 1,
   "id": "f877b10e-939e-4ccd-9388-f7ef4ec01919",
   "metadata": {},
   "outputs": [],
   "source": [
    "def fib(self, N:int) -> int:\n",
    "    x, y = 0, 1\n",
    "    for i in range(N):\n",
    "        x, y = y, x+y\n",
    "    return x"
   ]
  },
  {
   "cell_type": "markdown",
   "id": "0daf3810-8962-44ab-8719-f978b0ea5e7f",
   "metadata": {},
   "source": [
    "### 0-1 배낭문제"
   ]
  },
  {
   "cell_type": "code",
   "execution_count": 3,
   "id": "9d154e52-0e4c-4670-adde-f381ec408f40",
   "metadata": {},
   "outputs": [],
   "source": [
    "cargo = [(4, 12), (2,1), (10, 4), (1, 1), (2, 2)]\n",
    "\n",
    "def zero_one_knapsack(cargo):\n",
    "    capacity = 15\n",
    "    pack = []\n",
    "    \n",
    "    for i in range(len(cargo) + 1):\n",
    "        pack.append([])\n",
    "        for c in range(capacity + 1):\n",
    "            if i == 0 or c == 0:\n",
    "                pack[i].append(0)\n",
    "            elif cargo[i-1][1] <= c:\n",
    "                pack[i].append(max(cargo[i-1][0]+pack[i-1][c-cargo[i-1][1]], pack[i-1][c]))\n",
    "            else:\n",
    "                pack[i].append(pack[i-1][c])\n",
    "                \n",
    "    return pack[-1][-1]"
   ]
  },
  {
   "cell_type": "markdown",
   "id": "4c99c4d0-6cb9-437d-a5f4-1796dc022969",
   "metadata": {},
   "source": [
    "## [52. Maximum Subarray](https://leetcode.com/problems/maximum-subarray)"
   ]
  },
  {
   "cell_type": "code",
   "execution_count": 11,
   "id": "af31474c-e31f-4578-8e34-51941737de31",
   "metadata": {},
   "outputs": [
    {
     "name": "stdout",
     "output_type": "stream",
     "text": [
      "[-2, 1, -2, 4, 3, 5, 6, 1, 5]\n"
     ]
    },
    {
     "data": {
      "text/plain": [
       "6"
      ]
     },
     "execution_count": 11,
     "metadata": {},
     "output_type": "execute_result"
    }
   ],
   "source": [
    "def maxSubArray(nums: list[int]) -> int:\n",
    "    if len(nums)==0:\n",
    "        return 0\n",
    "    for i in range(1,len(nums)):\n",
    "        if nums[i-1] > 0:\n",
    "            nums[i] += nums[i-1]\n",
    "    print(nums)\n",
    "    return max(nums)\n",
    "\n",
    "maxSubArray(nums=[-2,1,-3,4,-1,2,1,-5,4])"
   ]
  },
  {
   "cell_type": "code",
   "execution_count": 12,
   "id": "42dcd222-156c-4b11-8dfb-6787b72e5d1b",
   "metadata": {},
   "outputs": [
    {
     "data": {
      "text/plain": [
       "6"
      ]
     },
     "execution_count": 12,
     "metadata": {},
     "output_type": "execute_result"
    }
   ],
   "source": [
    "import sys\n",
    "def maxSubArray(nums: list[int]) -> int:\n",
    "    best_sum = -sys.maxsize\n",
    "    current_sum = 0\n",
    "    for num in nums:\n",
    "        current_sum = max(num, current_sum + num)\n",
    "        best_sum = max(best_sum, current_sum)\n",
    "    return best_sum\n",
    "\n",
    "maxSubArray(nums=[-2,1,-3,4,-1,2,1,-5,4])"
   ]
  },
  {
   "cell_type": "markdown",
   "id": "3b48ce76-6056-476f-8523-397ae4ad8279",
   "metadata": {},
   "source": [
    "#### Additional - [1749. Maximum Absolute Sum of Any Subarray](https://leetcode.com/problems/maximum-absolute-sum-of-any-subarray)"
   ]
  },
  {
   "cell_type": "code",
   "execution_count": 3,
   "id": "c6a0b1b0-60d5-49ee-a96c-1674ab00d8b1",
   "metadata": {},
   "outputs": [],
   "source": [
    "'''\n",
    "You are given an integer array nums. The absolute sum of a subarray [numsl, numsl+1, ..., numsr-1, numsr] is abs(numsl + numsl+1 + ... + numsr-1 + numsr).\n",
    "\n",
    "Return the maximum absolute sum of any (possibly empty) subarray of nums.\n",
    "\n",
    "Note that abs(x) is defined as follows:\n",
    "\n",
    "If x is a negative integer, then abs(x) = -x.\n",
    "If x is a non-negative integer, then abs(x) = x.\n",
    "'''\n",
    "\n",
    "def maxAbsoluteSum(self, nums: list[int]) -> int:\n",
    "    current_sum, best_sum = 0, -sys.maxsize\n",
    "    neg_current_sum, neg_best_sum = 0, sys.maxsize\n",
    "    for num in nums:\n",
    "        current_sum = max(num, current_sum+num)\n",
    "        best_sum = max(current_sum, best_sum)\n",
    "\n",
    "    for num in nums:\n",
    "        neg_current_sum = min(num, neg_current_sum+num)\n",
    "        neg_best_sum = min(neg_current_sum, neg_best_sum)\n",
    "\n",
    "    return max(abs(best_sum), abs(neg_best_sum))"
   ]
  },
  {
   "cell_type": "markdown",
   "id": "672032c7-c688-4e4a-8e9d-46045c359a28",
   "metadata": {},
   "source": [
    "## [70. Climbing Stairs](https://leetcode.com/problems/climbing-stairs)"
   ]
  },
  {
   "cell_type": "code",
   "execution_count": 6,
   "id": "ca13ad97-bd67-4e1b-a5c9-165358ce2689",
   "metadata": {},
   "outputs": [],
   "source": [
    "def climbStairs(self, n: int) -> int:\n",
    "    if n <= 2:\n",
    "        return n\n",
    "    method_list = [1,2] + [0 for _ in range(2,n)]\n",
    "    for i in range(2, n):\n",
    "        method_list[i] = method_list[i-1] + method_list[i-2]\n",
    "    return method_list[-1]\n",
    "\n",
    "\n",
    "def climbStairs(self, n: int) -> int:\n",
    "    if n <= 2:\n",
    "        return n\n",
    "    x, y = 1, 2\n",
    "    for i in range(2, n):\n",
    "        x, y = y, x+y\n",
    "    return y"
   ]
  },
  {
   "cell_type": "markdown",
   "id": "9163372f-716f-434d-83f2-c4961764ce15",
   "metadata": {},
   "source": [
    "## [198. House Robber](https://leetcode.com/problems/house-robber)"
   ]
  },
  {
   "cell_type": "code",
   "execution_count": null,
   "id": "edf785e6-f798-4295-ba87-f7fc0331790c",
   "metadata": {},
   "outputs": [],
   "source": [
    "def rob(self, nums: List[int]) -> int:\n",
    "    if len(nums)==0:\n",
    "        return 0\n",
    "    if len(nums) <= 2:\n",
    "        return max(nums)\n",
    "\n",
    "    nums[1] = max(nums[0], nums[1])\n",
    "    for i in range(2, len(nums)):\n",
    "        nums[i] = max(nums[i-1], nums[i-2]+nums[i])\n",
    "\n",
    "    return max(nums)"
   ]
  }
 ],
 "metadata": {
  "kernelspec": {
   "display_name": "Python 3 (ipykernel)",
   "language": "python",
   "name": "python3"
  },
  "language_info": {
   "codemirror_mode": {
    "name": "ipython",
    "version": 3
   },
   "file_extension": ".py",
   "mimetype": "text/x-python",
   "name": "python",
   "nbconvert_exporter": "python",
   "pygments_lexer": "ipython3",
   "version": "3.9.12"
  }
 },
 "nbformat": 4,
 "nbformat_minor": 5
}
